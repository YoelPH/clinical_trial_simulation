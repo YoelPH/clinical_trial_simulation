{
 "cells": [
  {
   "cell_type": "markdown",
   "metadata": {},
   "source": [
    "## Trial simulation"
   ]
  },
  {
   "cell_type": "code",
   "execution_count": 1,
   "metadata": {},
   "outputs": [],
   "source": [
    "import numpy as np\n",
    "import matplotlib.pyplot as plt\n",
    "import random\n",
    "from scipy.stats import binom\n",
    "import pandas as pd\n",
    "from itertools import accumulate"
   ]
  },
  {
   "cell_type": "markdown",
   "metadata": {},
   "source": [
    "## Test where our cut off value should be"
   ]
  },
  {
   "cell_type": "code",
   "execution_count": 2,
   "metadata": {},
   "outputs": [],
   "source": [
    "asdf = np.zeros(100000)\n",
    "for i in range(0,100000):\n",
    "    outcomes = np.zeros(120)\n",
    "    for a in range(0,120):\n",
    "        outcomes[a] = 0 if random.uniform(0,1) > 0.1 else 1\n",
    "    asdf[i]= 1 if outcomes.sum()>=18  else 0\n",
    "\n",
    "    "
   ]
  },
  {
   "cell_type": "code",
   "execution_count": 3,
   "metadata": {},
   "outputs": [
    {
     "data": {
      "text/plain": [
       "5.3469999999999995"
      ]
     },
     "execution_count": 3,
     "metadata": {},
     "output_type": "execute_result"
    }
   ],
   "source": [
    "asdf.sum()/100000*100\n"
   ]
  },
  {
   "cell_type": "markdown",
   "metadata": {},
   "source": [
    "## Analysis how often we would stop the trial under H0 with instantaneous events"
   ]
  },
  {
   "cell_type": "code",
   "execution_count": 66,
   "metadata": {},
   "outputs": [],
   "source": [
    "total_number_pat = 120\n",
    "number_of_months = 24\n",
    "p = 0.10\n",
    "number_of_simulations = 300000\n",
    "\n",
    "interim_1 = 30\n",
    "interim_2 = 60\n",
    "analyses = [interim_2,total_number_pat]\n",
    "analysis_array  = np.zeros((number_of_simulations,2))\n",
    "for simulation_index in range(0,number_of_simulations):\n",
    "    outcomes = []\n",
    "    for index, analysis in enumerate(analyses):\n",
    "        if index == 0:\n",
    "            number_of_samples = analysis\n",
    "        else:\n",
    "            number_of_samples = analysis - analyses[index-1]\n",
    "        for i in range(0,number_of_samples):\n",
    "            outcomes.append(0) if random.uniform(0,1) > p else outcomes.append(1)\n",
    "        if index != len(analyses)-1:\n",
    "            upper_limit_under_p = binom.ppf(0.95, analysis, p)\n",
    "        else:\n",
    "            upper_limit_under_p = binom.ppf(0.95, analysis, p)\n",
    "        analysis_array[simulation_index,index] = 1 if sum(outcomes) >= upper_limit_under_p else 0\n",
    "    "
   ]
  },
  {
   "cell_type": "code",
   "execution_count": 71,
   "metadata": {},
   "outputs": [
    {
     "data": {
      "text/plain": [
       "array([7.39033333, 5.373     ])"
      ]
     },
     "execution_count": 71,
     "metadata": {},
     "output_type": "execute_result"
    }
   ],
   "source": [
    "analysis_array.sum(axis = 0)/number_of_simulations*100"
   ]
  },
  {
   "cell_type": "code",
   "execution_count": 63,
   "metadata": {},
   "outputs": [
    {
     "name": "stdout",
     "output_type": "stream",
     "text": [
      "percentage of stopping under H0 distribution 9.974 %\n"
     ]
    }
   ],
   "source": [
    "print('percentage of stopping under H0 distribution',np.any(analysis_array,axis = 1).sum()/number_of_simulations*100,'%')"
   ]
  },
  {
   "cell_type": "markdown",
   "metadata": {},
   "source": [
    "## Alternative interim analyses scheme"
   ]
  },
  {
   "cell_type": "code",
   "execution_count": 11,
   "metadata": {},
   "outputs": [],
   "source": [
    "total_number_pat = 120\n",
    "number_of_months = 24\n",
    "p = 0.10\n",
    "number_of_simulations = 10000\n",
    "number_of_analyses = 12\n",
    "analyses = list(range(10,130,10))\n",
    "analysis_array  = np.zeros((number_of_simulations,number_of_analyses))\n",
    "for simulation_index in range(0,number_of_simulations):\n",
    "    outcomes = []\n",
    "    for index, analysis in enumerate(analyses):\n",
    "        if index == 0:\n",
    "            number_of_samples = analysis\n",
    "        else:\n",
    "            number_of_samples = analysis - analyses[index-1]\n",
    "        for i in range(0,number_of_samples):\n",
    "            outcomes.append(0) if random.uniform(0,1) > p else outcomes.append(1)\n",
    "        if index != number_of_analyses-1:\n",
    "            upper_limit_under_p = binom.ppf(0.95, analysis, 0.1)\n",
    "        else:\n",
    "            upper_limit_under_p = binom.ppf(0.95, analysis, p)\n",
    "        analysis_array[simulation_index,index] = 1 if sum(outcomes) >= upper_limit_under_p else 0"
   ]
  },
  {
   "cell_type": "code",
   "execution_count": 12,
   "metadata": {},
   "outputs": [
    {
     "data": {
      "text/plain": [
       "array([ 700., 1333.,  742., 1002.,  590.,  736.,  880.,  551.,  623.,\n",
       "        711.,  796.,  526.])"
      ]
     },
     "execution_count": 12,
     "metadata": {},
     "output_type": "execute_result"
    }
   ],
   "source": [
    "analysis_array.sum(axis = 0)"
   ]
  },
  {
   "cell_type": "code",
   "execution_count": 13,
   "metadata": {},
   "outputs": [
    {
     "data": {
      "text/plain": [
       "9190.0"
      ]
     },
     "execution_count": 13,
     "metadata": {},
     "output_type": "execute_result"
    }
   ],
   "source": [
    "analysis_array.sum()"
   ]
  },
  {
   "cell_type": "code",
   "execution_count": 14,
   "metadata": {},
   "outputs": [
    {
     "name": "stdout",
     "output_type": "stream",
     "text": [
      "percentage of stopping under H0 distribution 25.82 %\n"
     ]
    }
   ],
   "source": [
    "print('percentage of stopping under H0 distribution',np.any(analysis_array,axis = 1).sum()/number_of_simulations*100,'%')"
   ]
  },
  {
   "cell_type": "markdown",
   "metadata": {},
   "source": [
    "We would stop too often!"
   ]
  },
  {
   "cell_type": "markdown",
   "metadata": {},
   "source": [
    "## Double check lecture scheme"
   ]
  },
  {
   "cell_type": "markdown",
   "metadata": {},
   "source": [
    "Double check lecture information"
   ]
  },
  {
   "cell_type": "code",
   "execution_count": 15,
   "metadata": {},
   "outputs": [],
   "source": [
    "total_number_pat = 300\n",
    "number_of_months = 24\n",
    "p = 0.10\n",
    "number_of_simulations = 10000\n",
    "number_of_analyses = 10\n",
    "analyses = list(range(30,301,30))\n",
    "\n",
    "analysis_array  = np.zeros((number_of_simulations,number_of_analyses))\n",
    "for simulation_index in range(0,number_of_simulations):\n",
    "    outcomes = []\n",
    "    for index, analysis in enumerate(analyses):\n",
    "        if index == 0:\n",
    "            number_of_samples = analysis\n",
    "        else:\n",
    "            number_of_samples = analysis - analyses[index-1]\n",
    "        for i in range(0,number_of_samples):\n",
    "            outcomes.append(0) if random.uniform(0,1) > p else outcomes.append(1)\n",
    "        if index != number_of_analyses-1:\n",
    "            upper_limit_under_p = binom.ppf(0.95, analysis, 0.1)\n",
    "        else:\n",
    "            upper_limit_under_p = binom.ppf(0.95, analysis, p)\n",
    "        analysis_array[simulation_index,index] = 1 if sum(outcomes) >= upper_limit_under_p else 0"
   ]
  },
  {
   "cell_type": "code",
   "execution_count": 16,
   "metadata": {},
   "outputs": [
    {
     "data": {
      "text/plain": [
       "array([731., 715., 639., 535., 688., 552., 683., 563., 671., 539.])"
      ]
     },
     "execution_count": 16,
     "metadata": {},
     "output_type": "execute_result"
    }
   ],
   "source": [
    "analysis_array.sum(axis = 0)"
   ]
  },
  {
   "cell_type": "code",
   "execution_count": 17,
   "metadata": {},
   "outputs": [
    {
     "name": "stdout",
     "output_type": "stream",
     "text": [
      "percentage of stopping under H0 distribution 20.59 %\n"
     ]
    }
   ],
   "source": [
    "print('percentage of stopping under H0 distribution',np.any(analysis_array,axis = 1).sum()/number_of_simulations*100,'%')"
   ]
  },
  {
   "cell_type": "markdown",
   "metadata": {},
   "source": [
    "## Realistic recruitement schemes"
   ]
  },
  {
   "cell_type": "markdown",
   "metadata": {},
   "source": [
    "## Distribution to sample from to get the number of days until diagnose of recessive LNL\n",
    "Here we just put a binomial distribution. Later we want to make it more elaborated by considering follow ups and maybe flatten the curve"
   ]
  },
  {
   "cell_type": "code",
   "execution_count": 141,
   "metadata": {},
   "outputs": [
    {
     "data": {
      "image/png": "[encoded data removed]",
      "text/plain": [
       "<Figure size 600x800 with 2 Axes>"
      ]
     },
     "metadata": {},
     "output_type": "display_data"
    }
   ],
   "source": [
    "p_plot = 0.32\n",
    "x = np.arange(1, number_of_months + 1)\n",
    "pmf = binom.pmf(x, number_of_months, p_plot)\n",
    "pmf = pmf**0.3/(pmf**0.3).sum()\n",
    "cdf = list(accumulate(pmf))\n",
    "\n",
    "# Plotting the distribution\n",
    "plt.figure(figsize=(6, 8))\n",
    "\n",
    "# Plotting the PMF\n",
    "plt.subplot(2, 1, 1)\n",
    "plt.bar(x, pmf, color='blue', alpha=0.7)\n",
    "plt.title('Probability of being diagnosed in in months after treatment(n=24, p=0.36)')\n",
    "plt.xlabel('Month')\n",
    "plt.ylabel('Probability')\n",
    "plt.xticks(x)\n",
    "\n",
    "# Plotting the CDF\n",
    "plt.subplot(2, 1, 2)\n",
    "plt.step(x, cdf, where='mid', color='blue', alpha=0.7)\n",
    "plt.title('Accumulated Probability of being diagnosed by each month (n=24, p=0.36)')\n",
    "plt.xlabel('Month')\n",
    "plt.ylabel('Cumulative Probability')\n",
    "plt.xticks(x)\n",
    "\n",
    "plt.tight_layout()\n",
    "plt.show()"
   ]
  },
  {
   "cell_type": "code",
   "execution_count": 120,
   "metadata": {},
   "outputs": [
    {
     "name": "stdout",
     "output_type": "stream",
     "text": [
      "probability of diagnosis in months 1-4: 19.293443605746415 %\n",
      "probability of diagnosis in months 5-12: 60.436062779416844 %\n",
      "probability of diagnosis in months 12-24: 20.27049361483675 %\n"
     ]
    }
   ],
   "source": [
    "print('probability of diagnosis in months 1-4:', np.sum(pmf[:4])*100,'%')\n",
    "print('probability of diagnosis in months 5-12:', np.sum(pmf[4:12])*100,'%')\n",
    "print('probability of diagnosis in months 12-24:', np.sum(pmf[12:])*100,'%')\n"
   ]
  },
  {
   "cell_type": "markdown",
   "metadata": {},
   "source": [
    "Now go fancier with modified distribution. We consider the following aspects:\n",
    "- ultrasound after 6-8 weeks, 6 months, 12 months, 15 months, 18 months, 21 months, 23 months, 30 months+\n",
    "- PET-CT after 3-4 months, 9 months, 24 months\n",
    "- physical examination after 6-8 weeks, 3-4 months, 6 months, 9 months, 12 months, 15 months, 18 months, 21 months, 24 months"
   ]
  },
  {
   "cell_type": "code",
   "execution_count": 125,
   "metadata": {},
   "outputs": [
    {
     "data": {
      "text/plain": [
       "array([1. , 1.3, 1. , 2. , 1. , 1.3, 1. , 1. , 2. , 1. , 1. , 1.3, 1. ,\n",
       "       1. , 1.3, 1. , 1. , 1.3, 1. , 1. , 1.3, 1. , 1. , 2. ])"
      ]
     },
     "execution_count": 125,
     "metadata": {},
     "output_type": "execute_result"
    }
   ],
   "source": [
    "weights = np.ones_like(pmf)\n",
    "weights_ultrasound = np.zeros_like(pmf)\n",
    "weights_PET = np.zeros_like(pmf)\n",
    "\n",
    "weights_ultrasound[[1,5,11,14,17,20]] = 0.3\n",
    "weights_PET[[3,8,23]] = 1\n",
    "\n",
    "weights += weights_ultrasound + weights_PET\n",
    "weights"
   ]
  },
  {
   "cell_type": "code",
   "execution_count": 167,
   "metadata": {},
   "outputs": [
    {
     "name": "stdout",
     "output_type": "stream",
     "text": [
      "Original PMF: [2.15789696e-02 3.58123132e-02 5.19296172e-02 6.81169560e-02\n",
      " 8.23503690e-02 9.28193610e-02 9.82840928e-02 9.82840928e-02\n",
      " 9.31619982e-02 8.39186507e-02 7.19567297e-02 5.87884986e-02\n",
      " 4.57779201e-02 3.39646991e-02 2.39879267e-02 1.60998486e-02\n",
      " 1.02425108e-02 6.15384298e-03 3.47342579e-03 1.82781546e-03\n",
      " 8.86496195e-04 3.88936559e-04 1.49094539e-04 4.58343084e-05]\n",
      "Weighted PMF: [8.58364616e-03 3.70379402e-02 4.13129513e-02 1.08381792e-01\n",
      " 6.55143821e-02 9.59959756e-02 7.81905618e-02 7.81905618e-02\n",
      " 1.48231291e-01 6.67620390e-02 5.72456535e-02 6.08004539e-02\n",
      " 3.64189279e-02 2.70208416e-02 3.81675083e-02 1.28083413e-02\n",
      " 8.14849738e-03 1.46871918e-02 2.76330692e-03 1.45413071e-03\n",
      " 9.16835304e-04 3.09421059e-04 1.18613149e-04 1.09391364e-02]\n"
     ]
    },
    {
     "data": {
      "image/png": "[encoded data removed]",
      "text/plain": [
       "<Figure size 1000x600 with 1 Axes>"
      ]
     },
     "metadata": {},
     "output_type": "display_data"
    }
   ],
   "source": [
    "x = np.arange(1, number_of_months + 1)\n",
    "pmf = binom.pmf(x, number_of_months, 0.32)\n",
    "pmf = pmf**0.3/(pmf**0.3).sum()\n",
    "cdf = list(accumulate(pmf))\n",
    "# Define weights based on examination\n",
    "weights = np.ones_like(pmf)\n",
    "weights_ultrasound = np.zeros_like(pmf)\n",
    "weights_PET = np.zeros_like(pmf)\n",
    "\n",
    "weights_ultrasound[[1,5,11,14,17,20]] = 0.3\n",
    "weights_PET[[3,8,23]] = 1\n",
    "\n",
    "\n",
    "weights += weights_ultrasound + weights_PET\n",
    "weights[-1] = 300\n",
    "weights[14] = 2\n",
    "weights[17] = 3\n",
    "weights[0] = 0.5\n",
    "\n",
    "# Apply weights to the PMF\n",
    "weighted_pmf = pmf * weights\n",
    "\n",
    "# Normalize the weighted PMF\n",
    "weighted_pmf /= np.sum(weighted_pmf)\n",
    "\n",
    "# Display the original PMF and weighted PMF\n",
    "print(\"Original PMF:\", pmf)\n",
    "print(\"Weighted PMF:\", weighted_pmf)\n",
    "\n",
    "\n",
    "\n",
    "# Plot the original PMF and weighted PMF\n",
    "plt.figure(figsize=(10, 6))\n",
    "plt.bar(x - 0.2, pmf, width=0.4, label='Original PMF', color='blue', alpha=0.7)\n",
    "plt.bar(x + 0.2, weighted_pmf, width=0.4, label='Weighted PMF', color='orange', alpha=0.7)\n",
    "plt.xlabel('Months')\n",
    "plt.ylabel('Probability')\n",
    "plt.xticks(x)\n",
    "plt.title('Comparison of Original PMF and Weighted PMF')\n",
    "plt.legend()\n",
    "plt.show()"
   ]
  },
  {
   "cell_type": "code",
   "execution_count": 238,
   "metadata": {},
   "outputs": [
    {
     "data": {
      "image/png": "[encoded data removed]",
      "text/plain": [
       "<Figure size 1200x600 with 1 Axes>"
      ]
     },
     "metadata": {},
     "output_type": "display_data"
    }
   ],
   "source": [
    "# Function to sample from the weighted PMF\n",
    "def sample_custom_pmf(weighted_pmf, size=1):\n",
    "    # Calculate the CDF of the weighted PMF for sampling\n",
    "    cdf = list(accumulate(weighted_pmf))\n",
    "    return np.searchsorted(cdf, np.random.rand(size))+1\n",
    "\n",
    "samples = sample_custom_pmf(weighted_pmf, size=100000)\n",
    "n = 24\n",
    "# Plot the theoretical weighted PMF\n",
    "plt.figure(figsize=(12, 6))\n",
    "x_plot = np.arange(1, number_of_months + 1)\n",
    "plt.bar(x_plot, weighted_pmf, width=0.4, label='Theoretical Weighted PMF', color='orange', alpha=0.7, align='center')\n",
    "plt.xticks(x_plot)\n",
    "# Plot the histogram of sampled values\n",
    "sample_counts, bins, patches = plt.hist(samples, bins=np.arange(1,n + 2) - 0.5, density=True, alpha=0.5, color='blue', label='Sampled Values', rwidth=0.8)\n",
    "\n",
    "# Adjust the bin labels to be at the center\n",
    "bin_centers = 0.5 * (bins[:-1] + bins[1:])\n",
    "for count, x in zip(sample_counts, bin_centers):\n",
    "    plt.text(x, count, f'{count:.2f}', ha='center', va='bottom')\n",
    "\n",
    "# Add labels and title\n",
    "plt.xlabel('Months after treatment')\n",
    "plt.ylabel('Probability')\n",
    "plt.title('Comparison of Theoretical Weighted PMF and Sampled Values')\n",
    "plt.legend()\n",
    "plt.show()\n"
   ]
  },
  {
   "cell_type": "code",
   "execution_count": 234,
   "metadata": {},
   "outputs": [
    {
     "data": {
      "image/png": "[encoded data removed]",
      "text/plain": [
       "<Figure size 1200x600 with 1 Axes>"
      ]
     },
     "metadata": {},
     "output_type": "display_data"
    }
   ],
   "source": [
    "plt.figure(figsize=(12, 6))\n",
    "plt.step(range(1,25), cdf, where='mid', color='blue', alpha=0.7)\n",
    "plt.title('Accumulated Probability of being diagnosed by each month (n=24, p=0.36)')\n",
    "plt.xlabel('Month')\n",
    "plt.ylabel('Cumulative Probability')\n",
    "plt.xticks(range(1,25))\n",
    "\n",
    "plt.tight_layout()\n",
    "plt.show()"
   ]
  },
  {
   "cell_type": "markdown",
   "metadata": {},
   "source": [
    "## Recruitement definition"
   ]
  },
  {
   "cell_type": "code",
   "execution_count": 239,
   "metadata": {},
   "outputs": [
    {
     "data": {
      "text/plain": [
       "Text(0.5, 1.0, 'recruitement rates per months')"
      ]
     },
     "execution_count": 239,
     "metadata": {},
     "output_type": "execute_result"
    },
    {
     "data": {
      "image/png": "[encoded data removed]",
      "text/plain": [
       "<Figure size 700x400 with 1 Axes>"
      ]
     },
     "metadata": {},
     "output_type": "display_data"
    }
   ],
   "source": [
    "recruitement_rate_list = [2,3,5,6,7]\n",
    "n_bars = len(recruitement_rate_list)\n",
    "\n",
    "plt.figure(figsize=(7, 4))  \n",
    "plt.bar(['1-4 months','5-8 months','9-12 months', '13-16 months', '17-24 months' ], recruitement_rate_list, color='skyblue')\n",
    "plt.ylabel('recruitement rate')\n",
    "plt.title('recruitement rates per months')"
   ]
  },
  {
   "cell_type": "markdown",
   "metadata": {},
   "source": [
    "optimize recruiting with random number of recruited patients"
   ]
  },
  {
   "cell_type": "code",
   "execution_count": 306,
   "metadata": {},
   "outputs": [],
   "source": [
    "def rate_sampler(month):\n",
    "    rate_change = [5,9,13,17]\n",
    "    rate_index = 4 - (np.array(rate_change) > month).sum()\n",
    "    print(rate_index)\n",
    "    if rate_index == 0:\n",
    "        sample = np.round(np.random.normal(2,2/3,1))\n",
    "        sample = np.clip(sample,0,4)\n",
    "    elif rate_index == 1:\n",
    "        sample = np.round(np.random.normal(3,2/3,1))\n",
    "        sample = np.clip(sample,0,7)\n",
    "    elif rate_index == 2:\n",
    "        sample = np.round(np.random.normal(5,4/6,1))\n",
    "        sample = np.clip(sample,0,8)\n",
    "    elif rate_index == 3:\n",
    "        sample = np.round(np.random.normal(6, 4/6, 1))\n",
    "        sample = np.clip(sample, 0, 8)\n",
    "    elif rate_index >= 4:\n",
    "        sample = np.round(np.random.normal(7, 4/6, 1))\n",
    "        sample = np.clip(sample, 0, 10)\n",
    "    return sample"
   ]
  },
  {
   "cell_type": "code",
   "execution_count": 93,
   "metadata": {},
   "outputs": [
    {
     "data": {
      "image/png": "[encoded data removed]",
      "text/plain": [
       "<Figure size 640x480 with 1 Axes>"
      ]
     },
     "metadata": {},
     "output_type": "display_data"
    }
   ],
   "source": [
    "samples = np.round(np.random.normal(2, 2/3, 100000))\n",
    "samples = np.clip(samples, 0, 4)\n",
    "\n",
    "# Create the histogram\n",
    "counts, bins, patches = plt.hist(samples, bins=np.arange(-0.5, 5.5, 1), edgecolor='black')\n",
    "percentages = (counts / counts.sum()) * 100\n",
    "\n",
    "# Adding percentages as text labels on top of each bar\n",
    "for i in range(len(bins) - 1):\n",
    "    plt.text(bins[i] + (bins[i+1] - bins[i]) / 2, counts[i], f'{percentages[i]:.2f}%', \n",
    "             ha='center', va='bottom')\n",
    "\n",
    "plt.xlabel('Value')\n",
    "plt.ylabel('Frequency')\n",
    "plt.title('Months 0-4')\n",
    "plt.show()\n"
   ]
  },
  {
   "cell_type": "code",
   "execution_count": 94,
   "metadata": {},
   "outputs": [
    {
     "data": {
      "image/png": "[encoded data removed]",
      "text/plain": [
       "<Figure size 640x480 with 1 Axes>"
      ]
     },
     "metadata": {},
     "output_type": "display_data"
    }
   ],
   "source": [
    "samples = np.round(np.random.normal(3, 2/3, 100000))\n",
    "samples = np.clip(samples, 0, 7)\n",
    "\n",
    "# Create the histogram\n",
    "counts, bins, patches = plt.hist(samples, bins=np.arange(-0.5, 7.5, 1), edgecolor='black')\n",
    "percentages = (counts / counts.sum()) * 100\n",
    "\n",
    "# Adding percentages as text labels on top of each bar\n",
    "for i in range(len(bins) - 1):\n",
    "    plt.text(bins[i] + (bins[i+1] - bins[i]) / 2, counts[i], f'{percentages[i]:.2f}%', \n",
    "             ha='center', va='bottom')\n",
    "\n",
    "plt.xlabel('Value')\n",
    "plt.ylabel('Frequency')\n",
    "plt.title('Months 5-8')\n",
    "plt.show()"
   ]
  },
  {
   "cell_type": "code",
   "execution_count": 99,
   "metadata": {},
   "outputs": [
    {
     "data": {
      "image/png": "[encoded data removed]",
      "text/plain": [
       "<Figure size 640x480 with 1 Axes>"
      ]
     },
     "metadata": {},
     "output_type": "display_data"
    }
   ],
   "source": [
    "samples = np.round(np.random.normal(5, 4/6, 100000))\n",
    "samples = np.clip(samples, 0, 8)\n",
    "\n",
    "# Create the histogram\n",
    "counts, bins, patches = plt.hist(samples, bins=np.arange(1.5, 9.5, 1), edgecolor='black')\n",
    "percentages = (counts / counts.sum()) * 100\n",
    "\n",
    "# Adding percentages as text labels on top of each bar\n",
    "for i in range(len(bins) - 1):\n",
    "    plt.text(bins[i] + (bins[i+1] - bins[i]) / 2, counts[i], f'{percentages[i]:.2f}%', \n",
    "             ha='center', va='bottom')\n",
    "\n",
    "plt.xlabel('Value')\n",
    "plt.ylabel('Frequency')\n",
    "plt.title('Months 9-12')\n",
    "plt.show()"
   ]
  },
  {
   "cell_type": "code",
   "execution_count": 100,
   "metadata": {},
   "outputs": [
    {
     "data": {
      "image/png": "[encoded data removed]",
      "text/plain": [
       "<Figure size 640x480 with 1 Axes>"
      ]
     },
     "metadata": {},
     "output_type": "display_data"
    }
   ],
   "source": [
    "samples = np.round(np.random.normal(6, 4/6, 100000))\n",
    "samples = np.clip(samples, 0, 8)\n",
    "\n",
    "# Create the histogram\n",
    "counts, bins, patches = plt.hist(samples, bins=np.arange(2.5, 9.5, 1), edgecolor='black')\n",
    "percentages = (counts / counts.sum()) * 100\n",
    "\n",
    "# Adding percentages as text labels on top of each bar\n",
    "for i in range(len(bins) - 1):\n",
    "    plt.text(bins[i] + (bins[i+1] - bins[i]) / 2, counts[i], f'{percentages[i]:.2f}%', \n",
    "             ha='center', va='bottom')\n",
    "\n",
    "plt.xlabel('Value')\n",
    "plt.ylabel('Frequency')\n",
    "plt.title('Months 13-16')\n",
    "plt.show()"
   ]
  },
  {
   "cell_type": "code",
   "execution_count": 103,
   "metadata": {},
   "outputs": [
    {
     "data": {
      "image/png": "[encoded data removed]",
      "text/plain": [
       "<Figure size 640x480 with 1 Axes>"
      ]
     },
     "metadata": {},
     "output_type": "display_data"
    }
   ],
   "source": [
    "samples = np.round(np.random.normal(7, 4/6, 100000))\n",
    "samples = np.clip(samples, 0, 10)\n",
    "\n",
    "# Create the histogram\n",
    "counts, bins, patches = plt.hist(samples, bins=np.arange(3.5, 11.5, 1), edgecolor='black')\n",
    "percentages = (counts / counts.sum()) * 100\n",
    "\n",
    "# Adding percentages as text labels on top of each bar\n",
    "for i in range(len(bins) - 1):\n",
    "    plt.text(bins[i] + (bins[i+1] - bins[i]) / 2, counts[i], f'{percentages[i]:.2f}%', \n",
    "             ha='center', va='bottom')\n",
    "\n",
    "plt.xlabel('Value')\n",
    "plt.ylabel('Frequency')\n",
    "plt.title('Months 16+')\n",
    "plt.show()"
   ]
  },
  {
   "cell_type": "markdown",
   "metadata": {},
   "source": [
    "## Recruitement evaluator"
   ]
  },
  {
   "cell_type": "code",
   "execution_count": 242,
   "metadata": {},
   "outputs": [],
   "source": [
    "def interim_evaluator(recruitement_list,patient_true_status,patient_actual_status,p_interim = 0.10):\n",
    "    upper_limit_under_p = binom.ppf(0.95, recruitement_list.sum(), p_interim)\n",
    "    stopp_trial_true = 1 if sum(patient_true_status) >= upper_limit_under_p else 0\n",
    "    stopp_trial_observed = 1 if sum(patient_actual_status) >= upper_limit_under_p else 0\n",
    "    # print((recruitement_list).sum())\n",
    "    # print('events true', sum(patient_true_status))\n",
    "    # print('stopping condition', upper_limit_under_p)\n",
    "    return np.array([stopp_trial_true, stopp_trial_observed])"
   ]
  },
  {
   "cell_type": "code",
   "execution_count": 243,
   "metadata": {},
   "outputs": [],
   "source": [
    "def recruitement_evaluator(running_months = 36, recruitement_condition = None, total_number_pat = 120, p = 0.1, interim = None, p_interim = 0.10):\n",
    "    if interim != None:\n",
    "        interim_analyses = np.zeros((len(interim),2))\n",
    "    else: \n",
    "        interim_analyses = 0\n",
    "    interim_looper = 0\n",
    "    number_of_follow_up_months = 24\n",
    "    recruitement_list = np.zeros((total_number_pat,1))\n",
    "    patients_time_count = np.zeros((total_number_pat,1))\n",
    "    patient_true_status = np.zeros((total_number_pat,1))\n",
    "    patient_observed_status = np.zeros((total_number_pat,1))\n",
    "    recessive_patients_diagnose_time = np.zeros((total_number_pat,1))\n",
    "    recruitement_month = np.zeros((total_number_pat,1))\n",
    "    #Define recruitement rates and when they change\n",
    "    rate_change = [4,8,12,16,10000]\n",
    "    recruitement_rate_list = [2,3,5,6,7]\n",
    "    patient_index = 0 #index of actual patient to be recruited\n",
    "    rate_index = 0 #index of which rate is being used of the rate\n",
    "    x = np.arange(0, number_of_follow_up_months + 1)\n",
    "    #loop for recruiting a specified amount of patients\n",
    "    if recruitement_condition == None:\n",
    "        for month in range(1,running_months + 1):\n",
    "            # update the already recruited patients\n",
    "            patients_time_count[:patient_index] += 1\n",
    "            for recruited_patient_index in range(0,total_number_pat):\n",
    "                #update the observed status of the patients\n",
    "                if patient_true_status[recruited_patient_index] == 1 and recessive_patients_diagnose_time[recruited_patient_index] == patients_time_count[recruited_patient_index]:\n",
    "                    patient_observed_status[recruited_patient_index] = 1\n",
    "            #Change the recruitement rate according to the actual month until we hit our quota\n",
    "            if patient_index < total_number_pat - 1:\n",
    "                if month > rate_change[rate_index]:\n",
    "                    rate_index += 1\n",
    "                \n",
    "                number_of_new_patients = recruitement_rate_list[rate_index]\n",
    "                for k in range(0,number_of_new_patients):\n",
    "                    patient_true_status[patient_index] = 0 if random.uniform(0,1) > p else 1\n",
    "                    recruitement_list[patient_index] = 1\n",
    "                    recruitement_month[patient_index] = month\n",
    "                    if patient_true_status[patient_index] == 1:\n",
    "                        recessive_patients_diagnose_time[patient_index] = int(np.random.binomial(number_of_follow_up_months, 0.4, 1))\n",
    "                    patient_index += 1\n",
    "            if (interim != None) and (recruitement_list.sum() >= interim[interim_looper]):\n",
    "                interim_analyses[interim_looper] = interim_evaluator(recruitement_list,patient_true_status,patient_observed_status,p_interim)\n",
    "                if interim_looper < len(interim)-1:\n",
    "                    interim_looper += 1\n",
    "   \n",
    "    #loop for recruiting for a certain amount of months \n",
    "    else:\n",
    "        month = 1\n",
    "        while patient_index < recruitement_condition:\n",
    "            # update the already recruited patients\n",
    "            patients_time_count[:patient_index] += 1\n",
    "            for recruited_patient_index in range(0,patient_index):\n",
    "                #update the observed status of the patients\n",
    "                if patient_true_status[recruited_patient_index] == 1:\n",
    "                    if recessive_patients_diagnose_time[recruited_patient_index] == patients_time_count[recruited_patient_index]:\n",
    "                        patient_observed_status[recruited_patient_index] = 1\n",
    "            # recruite new patients\n",
    "            if patient_index < total_number_pat - 1:\n",
    "                if month > rate_change[rate_index]:\n",
    "                    rate_index += 1\n",
    "                number_of_new_patients = recruitement_rate_list[rate_index]\n",
    "                for k in range(0,number_of_new_patients):\n",
    "                    patient_true_status[patient_index] = 0 if random.uniform(0,1) > p else 1\n",
    "                    recruitement_list[patient_index] = 1\n",
    "                    recruitement_month[patient_index] = month\n",
    "                    if patient_true_status[patient_index] == 1:\n",
    "                        recessive_patients_diagnose_time[patient_index] = int(np.random.binomial(number_of_follow_up_months, 0.4, 1))\n",
    "                    patient_index += 1  \n",
    "            if (interim != None) and (recruitement_list.sum() >= interim[interim_looper]):\n",
    "                interim_analyses[interim_looper] = interim_evaluator(recruitement_list,patient_true_status,patient_observed_status,p_interim)\n",
    "                interim_looper += 1     \n",
    "            month += 1     \n",
    "\n",
    "    concatenated_data = np.concatenate((recruitement_list,recruitement_month, patients_time_count,patient_true_status, patient_observed_status, recessive_patients_diagnose_time), axis=1)\n",
    "    df = pd.DataFrame(concatenated_data, columns=['Recruitement status','Month of recruitement', 'Months since recruitement', 'True recessive status', 'Observed status', 'diagnose time after treatment'])\n",
    "    return df, month, interim_analyses\n"
   ]
  },
  {
   "cell_type": "code",
   "execution_count": 1109,
   "metadata": {},
   "outputs": [],
   "source": [
    "df, month, interim_analyses = recruitement_evaluator(running_months = 30, recruitement_condition = 60, total_number_pat = 120, p = 0.1,interim=[30,60,120])"
   ]
  },
  {
   "cell_type": "markdown",
   "metadata": {},
   "source": [
    "Note the actual month has not passed, but just started"
   ]
  },
  {
   "cell_type": "code",
   "execution_count": 1102,
   "metadata": {},
   "outputs": [
    {
     "name": "stdout",
     "output_type": "stream",
     "text": [
      "actual month 25\n"
     ]
    },
    {
     "data": {
      "text/html": [
       "<div>\n",
       "<style scoped>\n",
       "    .dataframe tbody tr th:only-of-type {\n",
       "        vertical-align: middle;\n",
       "    }\n",
       "\n",
       "    .dataframe tbody tr th {\n",
       "        vertical-align: top;\n",
       "    }\n",
       "\n",
       "    .dataframe thead th {\n",
       "        text-align: right;\n",
       "    }\n",
       "</style>\n",
       "<table border=\"1\" class=\"dataframe\">\n",
       "  <thead>\n",
       "    <tr style=\"text-align: right;\">\n",
       "      <th></th>\n",
       "      <th>Recruitement status</th>\n",
       "      <th>Month of recruitement</th>\n",
       "      <th>Months since recruitement</th>\n",
       "      <th>True recessive status</th>\n",
       "      <th>Observed status</th>\n",
       "      <th>diagnose time after treatment</th>\n",
       "    </tr>\n",
       "  </thead>\n",
       "  <tbody>\n",
       "    <tr>\n",
       "      <th>0</th>\n",
       "      <td>1.0</td>\n",
       "      <td>1.0</td>\n",
       "      <td>23.0</td>\n",
       "      <td>0.0</td>\n",
       "      <td>0.0</td>\n",
       "      <td>0.0</td>\n",
       "    </tr>\n",
       "    <tr>\n",
       "      <th>1</th>\n",
       "      <td>1.0</td>\n",
       "      <td>1.0</td>\n",
       "      <td>23.0</td>\n",
       "      <td>0.0</td>\n",
       "      <td>0.0</td>\n",
       "      <td>0.0</td>\n",
       "    </tr>\n",
       "    <tr>\n",
       "      <th>2</th>\n",
       "      <td>1.0</td>\n",
       "      <td>2.0</td>\n",
       "      <td>22.0</td>\n",
       "      <td>0.0</td>\n",
       "      <td>0.0</td>\n",
       "      <td>0.0</td>\n",
       "    </tr>\n",
       "    <tr>\n",
       "      <th>3</th>\n",
       "      <td>1.0</td>\n",
       "      <td>2.0</td>\n",
       "      <td>22.0</td>\n",
       "      <td>0.0</td>\n",
       "      <td>0.0</td>\n",
       "      <td>0.0</td>\n",
       "    </tr>\n",
       "  </tbody>\n",
       "</table>\n",
       "</div>"
      ],
      "text/plain": [
       "   Recruitement status  Month of recruitement  Months since recruitement   \n",
       "0                  1.0                    1.0                       23.0  \\\n",
       "1                  1.0                    1.0                       23.0   \n",
       "2                  1.0                    2.0                       22.0   \n",
       "3                  1.0                    2.0                       22.0   \n",
       "\n",
       "   True recessive status  Observed status  diagnose time after treatment  \n",
       "0                    0.0              0.0                            0.0  \n",
       "1                    0.0              0.0                            0.0  \n",
       "2                    0.0              0.0                            0.0  \n",
       "3                    0.0              0.0                            0.0  "
      ]
     },
     "execution_count": 1102,
     "metadata": {},
     "output_type": "execute_result"
    }
   ],
   "source": [
    "print('actual month', month)\n",
    "df.loc[0:3]"
   ]
  },
  {
   "cell_type": "markdown",
   "metadata": {},
   "source": [
    "## Visualize recruitement process"
   ]
  },
  {
   "cell_type": "code",
   "execution_count": 1110,
   "metadata": {},
   "outputs": [],
   "source": [
    "def com_sum_creator(df,column):\n",
    "    numbers_per_month = []\n",
    "    for month_of_rec in range(1,month+1):\n",
    "        numbers_per_month.append(df[column].loc[(df['Month of recruitement'] == month_of_rec)].sum())\n",
    "\n",
    "    cumulative_patients = []\n",
    "    current_sum = 0\n",
    "\n",
    "    # Iterate over the list and compute the cumulative sum\n",
    "    for value in numbers_per_month:\n",
    "        current_sum += value\n",
    "        cumulative_patients.append(current_sum)\n",
    "    return cumulative_patients"
   ]
  },
  {
   "cell_type": "code",
   "execution_count": 1111,
   "metadata": {},
   "outputs": [],
   "source": [
    "recruited_patients_per_month = []\n",
    "for month_of_rec in range(1,month+1):\n",
    "    recruited_patients_per_month.append((df['Month of recruitement'] == month_of_rec).sum())\n",
    "\n",
    "cumulative_patients = []\n",
    "current_sum = 0\n",
    "\n",
    "# Iterate over the list and compute the cumulative sum\n",
    "for value in recruited_patients_per_month:\n",
    "    current_sum += value\n",
    "    cumulative_patients.append(current_sum)"
   ]
  },
  {
   "cell_type": "code",
   "execution_count": 1112,
   "metadata": {},
   "outputs": [],
   "source": [
    "cumulative_positive = com_sum_creator(df,'True recessive status')"
   ]
  },
  {
   "cell_type": "code",
   "execution_count": 1113,
   "metadata": {},
   "outputs": [],
   "source": [
    "observed = np.zeros(17)\n",
    "cumulative_observed = []\n",
    "diagnose_time = df.loc[df['True recessive status'] == 1]['Month of recruitement'] + df.loc[df['True recessive status'] == 1]['diagnose time after treatment']\n",
    "for i in range(1,18):\n",
    "    observed[i-1] = (diagnose_time == i).sum()\n",
    "\n",
    "current_sum = 0\n",
    "for value in observed:\n",
    "    current_sum += value\n",
    "    cumulative_observed.append(current_sum)\n"
   ]
  },
  {
   "cell_type": "code",
   "execution_count": 1114,
   "metadata": {},
   "outputs": [
    {
     "data": {
      "text/plain": [
       "<matplotlib.legend.Legend at 0x15947667050>"
      ]
     },
     "execution_count": 1114,
     "metadata": {},
     "output_type": "execute_result"
    },
    {
     "data": {
      "image/png": "[encoded data removed]",
      "text/plain": [
       "<Figure size 640x480 with 1 Axes>"
      ]
     },
     "metadata": {},
     "output_type": "display_data"
    }
   ],
   "source": [
    "plt.step(list(range(1,18)), cumulative_patients, label='recruited patients')\n",
    "plt.step(list(range(1,18)), cumulative_positive, label='true positives')\n",
    "plt.step(list(range(1,18)), cumulative_observed, label='observed positives')\n",
    "plt.grid(visible = True)\n",
    "plt.xlabel('months')\n",
    "plt.ylabel('#patients')\n",
    "plt.title('recruitement process')\n",
    "plt.legend()\n"
   ]
  },
  {
   "cell_type": "markdown",
   "metadata": {},
   "source": [
    "## Sample realistic recruitement"
   ]
  },
  {
   "cell_type": "code",
   "execution_count": 1119,
   "metadata": {},
   "outputs": [
    {
     "data": {
      "text/plain": [
       "array([[0., 0.],\n",
       "       [0., 0.],\n",
       "       [0., 0.]])"
      ]
     },
     "execution_count": 1119,
     "metadata": {},
     "output_type": "execute_result"
    }
   ],
   "source": [
    "df1, month1, interim_analyses1 = recruitement_evaluator(running_months = 48, p = 0.1,interim=[30,60,120])\n",
    "interim_analyses1"
   ]
  },
  {
   "cell_type": "code",
   "execution_count": 511,
   "metadata": {},
   "outputs": [],
   "source": [
    "# df1[0:60]"
   ]
  },
  {
   "cell_type": "code",
   "execution_count": 1120,
   "metadata": {},
   "outputs": [],
   "source": [
    "number_of_simulations = 10000\n",
    "stopping_array = np.zeros((number_of_simulations,2))\n",
    "stopping_at_interim = np.zeros((number_of_simulations,2))\n",
    "for i in range(0,number_of_simulations):\n",
    "    df_looper, month_looper, interim_analyses_looper = interim_analyses = recruitement_evaluator(running_months= 48, recruitement_condition=120, p = 0.10,interim=[30,60,120])\n",
    "    stopping_array[i] = np.any(interim_analyses_looper,axis = 0)\n",
    "    stopping_at_interim[i] = np.any(interim_analyses_looper[:2],axis = 0)"
   ]
  },
  {
   "cell_type": "code",
   "execution_count": 1122,
   "metadata": {},
   "outputs": [
    {
     "data": {
      "text/plain": [
       "array([12.73,  0.  ])"
      ]
     },
     "execution_count": 1122,
     "metadata": {},
     "output_type": "execute_result"
    }
   ],
   "source": [
    "stopping_array.sum(axis = 0)/10000*100"
   ]
  },
  {
   "cell_type": "code",
   "execution_count": 1123,
   "metadata": {},
   "outputs": [
    {
     "data": {
      "text/plain": [
       "array([10.21,  0.  ])"
      ]
     },
     "execution_count": 1123,
     "metadata": {},
     "output_type": "execute_result"
    }
   ],
   "source": [
    "stopping_at_interim.sum(axis = 0)/10000*100"
   ]
  },
  {
   "cell_type": "markdown",
   "metadata": {},
   "source": [
    "## Improve process by adding the 2 month break before analysis\n"
   ]
  },
  {
   "cell_type": "code",
   "execution_count": 1184,
   "metadata": {},
   "outputs": [],
   "source": [
    "def recruitement_evaluator2(running_months = 36, recruitement_condition = None, total_number_pat = 120, p = 0.1, interim = None, p_interim = 0.10, break_after_recruiting = 2):\n",
    "    if interim != None:\n",
    "        interim_analyses = np.zeros((len(interim),2))\n",
    "    else: \n",
    "        interim_analyses = 0\n",
    "    interim_looper = 0\n",
    "    number_of_follow_up_months = 24\n",
    "    recruitement_list = np.zeros((total_number_pat,1))\n",
    "    patients_time_count = np.zeros((total_number_pat,1))\n",
    "    patient_true_status = np.zeros((total_number_pat,1))\n",
    "    patient_actual_status = np.zeros((total_number_pat,1))\n",
    "    recessive_patients_diagnose_time = np.zeros((total_number_pat,1))\n",
    "    recruitement_month = np.zeros((total_number_pat,1))\n",
    "    #Define recruitement rates and when they change\n",
    "    rate_change = [4,8,12,16,24,100000000]\n",
    "    recruitement_rate_list = [2,3,5,6,7,0]\n",
    "    patient_index = 0 #index of actual patient to be recruited\n",
    "    rate_index = 0\n",
    "    x = np.arange(0, number_of_follow_up_months + 1)\n",
    "    p_binom = 0.37\n",
    "    cdf = binom.cdf(x, number_of_follow_up_months, p_binom)\n",
    "    #runs for a certain amount of months\n",
    "    if recruitement_condition == None:\n",
    "        for month in range(1,running_months + 1):\n",
    "            # update the already recruited patients\n",
    "            patients_time_count[:patient_index] += 1\n",
    "            for recruited_patient_index in range(0,total_number_pat):\n",
    "                if patient_true_status[recruited_patient_index] == 1 and recessive_patients_diagnose_time[recruited_patient_index] == patients_time_count[recruited_patient_index]:\n",
    "                    patient_actual_status[recruited_patient_index] = 1\n",
    "            # recruite new patients\n",
    "            if month > rate_change[rate_index]:\n",
    "                rate_index += 1\n",
    "            number_of_new_patients = recruitement_rate_list[rate_index]\n",
    "            for k in range(0,number_of_new_patients):\n",
    "                patient_true_status[patient_index] = 0 if random.uniform(0,1) > p else 1\n",
    "                recruitement_list[patient_index] = 1\n",
    "                recruitement_month[patient_index] = month\n",
    "                if patient_true_status[patient_index] == 1:\n",
    "                    recessive_patients_diagnose_time[patient_index] = int(np.random.binomial(number_of_follow_up_months, 0.4, 1))\n",
    "                patient_index += 1\n",
    "            # we go into interim analysis if we have recruited enough patients\n",
    "            if (interim != None) and (recruitement_list.sum() >= interim[interim_looper]):\n",
    "                    if (interim_looper != len(interim)-1): #not last analysis\n",
    "                    #now we check whether 2 months have passed\n",
    "                        if patients_time_count[interim[interim_looper]-1] == 2:\n",
    "                            interim_analyses[interim_looper] = interim_evaluator(recruitement_list[:interim[interim_looper]],patient_true_status[:interim[interim_looper]],patient_actual_status[:interim[interim_looper]],p_interim)\n",
    "                            interim_looper += 1 \n",
    "                    #if it is the last analysis, we do it on the last month\n",
    "                    elif month == running_months:    \n",
    "                        interim_analyses[interim_looper] = interim_evaluator(recruitement_list,patient_true_status,patient_actual_status,p_interim)\n",
    "                        interim_looper += 1 \n",
    "\n",
    "    #runs until the recruitement condition is met\n",
    "    else:\n",
    "        month = 1\n",
    "        while patient_index < recruitement_condition:\n",
    "            # update the already recruited patients\n",
    "            patients_time_count[:patient_index] += 1\n",
    "            for recruited_patient_index in range(0,patient_index):\n",
    "                if patient_true_status[recruited_patient_index] == 1:\n",
    "                    if recessive_patients_diagnose_time[recruited_patient_index] == patients_time_count[recruited_patient_index]:\n",
    "                        patient_actual_status[recruited_patient_index] = 1\n",
    "            # recruite new patients\n",
    "            if month > rate_change[rate_index]:\n",
    "                rate_index += 1\n",
    "            number_of_new_patients = recruitement_rate_list[rate_index]\n",
    "            for k in range(0,number_of_new_patients):\n",
    "                patient_true_status[patient_index] = 0 if random.uniform(0,1) > p else 1\n",
    "                recruitement_list[patient_index] = 1\n",
    "                recruitement_month[patient_index] = month\n",
    "                if patient_true_status[patient_index] == 1:\n",
    "                    recessive_patients_diagnose_time[patient_index] = int(np.random.binomial(number_of_follow_up_months, 0.4, 1))\n",
    "                patient_index += 1  \n",
    "            if (interim != None) and (recruitement_list.sum() >= interim[interim_looper]):\n",
    "                if patients_time_count[interim[interim_looper]-1] == 2:\n",
    "                    interim_analyses[interim_looper] = interim_evaluator(recruitement_list[:interim[interim_looper]],patient_true_status[:interim[interim_looper]],patient_actual_status[:interim[interim_looper]],p_interim)\n",
    "                    interim_looper += 1     \n",
    "            month += 1     \n",
    "    concatenated_data = np.concatenate((recruitement_list,recruitement_month, patients_time_count,patient_true_status, patient_actual_status, recessive_patients_diagnose_time), axis=1)\n",
    "    df = pd.DataFrame(concatenated_data, columns=['Recruitement status','Month of recruitement', 'Months since recruitement', 'True recessive status', 'Observed status', 'diagnose time after treatment'])\n",
    "    return df, month, interim_analyses\n"
   ]
  },
  {
   "cell_type": "code",
   "execution_count": null,
   "metadata": {},
   "outputs": [],
   "source": []
  },
  {
   "cell_type": "code",
   "execution_count": 1212,
   "metadata": {},
   "outputs": [
    {
     "data": {
      "text/plain": [
       "array([[0., 0.],\n",
       "       [0., 0.],\n",
       "       [0., 0.]])"
      ]
     },
     "execution_count": 1212,
     "metadata": {},
     "output_type": "execute_result"
    }
   ],
   "source": [
    "df_looper, month_looper, interim_analyses_looper = interim_analyses = recruitement_evaluator2(running_months=48, total_number_pat = 120, p = 0.1,interim=[30,60,120])\n",
    "interim_analyses_looper"
   ]
  },
  {
   "cell_type": "code",
   "execution_count": 919,
   "metadata": {},
   "outputs": [
    {
     "data": {
      "text/html": [
       "<div>\n",
       "<style scoped>\n",
       "    .dataframe tbody tr th:only-of-type {\n",
       "        vertical-align: middle;\n",
       "    }\n",
       "\n",
       "    .dataframe tbody tr th {\n",
       "        vertical-align: top;\n",
       "    }\n",
       "\n",
       "    .dataframe thead th {\n",
       "        text-align: right;\n",
       "    }\n",
       "</style>\n",
       "<table border=\"1\" class=\"dataframe\">\n",
       "  <thead>\n",
       "    <tr style=\"text-align: right;\">\n",
       "      <th></th>\n",
       "      <th>Recruitement status</th>\n",
       "      <th>Month of recruitement</th>\n",
       "      <th>Months since recruitement</th>\n",
       "      <th>True recessive status</th>\n",
       "      <th>Observed status</th>\n",
       "      <th>diagnose time after treatment</th>\n",
       "    </tr>\n",
       "  </thead>\n",
       "  <tbody>\n",
       "    <tr>\n",
       "      <th>0</th>\n",
       "      <td>1.0</td>\n",
       "      <td>1.0</td>\n",
       "      <td>23.0</td>\n",
       "      <td>0.0</td>\n",
       "      <td>0.0</td>\n",
       "      <td>0.0</td>\n",
       "    </tr>\n",
       "    <tr>\n",
       "      <th>1</th>\n",
       "      <td>1.0</td>\n",
       "      <td>1.0</td>\n",
       "      <td>23.0</td>\n",
       "      <td>0.0</td>\n",
       "      <td>0.0</td>\n",
       "      <td>0.0</td>\n",
       "    </tr>\n",
       "    <tr>\n",
       "      <th>2</th>\n",
       "      <td>1.0</td>\n",
       "      <td>2.0</td>\n",
       "      <td>22.0</td>\n",
       "      <td>0.0</td>\n",
       "      <td>0.0</td>\n",
       "      <td>0.0</td>\n",
       "    </tr>\n",
       "    <tr>\n",
       "      <th>3</th>\n",
       "      <td>1.0</td>\n",
       "      <td>2.0</td>\n",
       "      <td>22.0</td>\n",
       "      <td>0.0</td>\n",
       "      <td>0.0</td>\n",
       "      <td>0.0</td>\n",
       "    </tr>\n",
       "    <tr>\n",
       "      <th>4</th>\n",
       "      <td>1.0</td>\n",
       "      <td>3.0</td>\n",
       "      <td>21.0</td>\n",
       "      <td>0.0</td>\n",
       "      <td>0.0</td>\n",
       "      <td>0.0</td>\n",
       "    </tr>\n",
       "    <tr>\n",
       "      <th>5</th>\n",
       "      <td>1.0</td>\n",
       "      <td>3.0</td>\n",
       "      <td>21.0</td>\n",
       "      <td>0.0</td>\n",
       "      <td>0.0</td>\n",
       "      <td>0.0</td>\n",
       "    </tr>\n",
       "    <tr>\n",
       "      <th>6</th>\n",
       "      <td>1.0</td>\n",
       "      <td>4.0</td>\n",
       "      <td>20.0</td>\n",
       "      <td>0.0</td>\n",
       "      <td>0.0</td>\n",
       "      <td>0.0</td>\n",
       "    </tr>\n",
       "    <tr>\n",
       "      <th>7</th>\n",
       "      <td>1.0</td>\n",
       "      <td>4.0</td>\n",
       "      <td>20.0</td>\n",
       "      <td>0.0</td>\n",
       "      <td>0.0</td>\n",
       "      <td>0.0</td>\n",
       "    </tr>\n",
       "    <tr>\n",
       "      <th>8</th>\n",
       "      <td>1.0</td>\n",
       "      <td>5.0</td>\n",
       "      <td>19.0</td>\n",
       "      <td>0.0</td>\n",
       "      <td>0.0</td>\n",
       "      <td>0.0</td>\n",
       "    </tr>\n",
       "    <tr>\n",
       "      <th>9</th>\n",
       "      <td>1.0</td>\n",
       "      <td>5.0</td>\n",
       "      <td>19.0</td>\n",
       "      <td>0.0</td>\n",
       "      <td>0.0</td>\n",
       "      <td>0.0</td>\n",
       "    </tr>\n",
       "    <tr>\n",
       "      <th>10</th>\n",
       "      <td>1.0</td>\n",
       "      <td>5.0</td>\n",
       "      <td>19.0</td>\n",
       "      <td>0.0</td>\n",
       "      <td>0.0</td>\n",
       "      <td>0.0</td>\n",
       "    </tr>\n",
       "    <tr>\n",
       "      <th>11</th>\n",
       "      <td>1.0</td>\n",
       "      <td>6.0</td>\n",
       "      <td>18.0</td>\n",
       "      <td>0.0</td>\n",
       "      <td>0.0</td>\n",
       "      <td>0.0</td>\n",
       "    </tr>\n",
       "    <tr>\n",
       "      <th>12</th>\n",
       "      <td>1.0</td>\n",
       "      <td>6.0</td>\n",
       "      <td>18.0</td>\n",
       "      <td>0.0</td>\n",
       "      <td>0.0</td>\n",
       "      <td>0.0</td>\n",
       "    </tr>\n",
       "    <tr>\n",
       "      <th>13</th>\n",
       "      <td>1.0</td>\n",
       "      <td>6.0</td>\n",
       "      <td>18.0</td>\n",
       "      <td>0.0</td>\n",
       "      <td>0.0</td>\n",
       "      <td>0.0</td>\n",
       "    </tr>\n",
       "    <tr>\n",
       "      <th>14</th>\n",
       "      <td>1.0</td>\n",
       "      <td>7.0</td>\n",
       "      <td>17.0</td>\n",
       "      <td>0.0</td>\n",
       "      <td>0.0</td>\n",
       "      <td>0.0</td>\n",
       "    </tr>\n",
       "    <tr>\n",
       "      <th>15</th>\n",
       "      <td>1.0</td>\n",
       "      <td>7.0</td>\n",
       "      <td>17.0</td>\n",
       "      <td>0.0</td>\n",
       "      <td>0.0</td>\n",
       "      <td>0.0</td>\n",
       "    </tr>\n",
       "    <tr>\n",
       "      <th>16</th>\n",
       "      <td>1.0</td>\n",
       "      <td>7.0</td>\n",
       "      <td>17.0</td>\n",
       "      <td>0.0</td>\n",
       "      <td>0.0</td>\n",
       "      <td>0.0</td>\n",
       "    </tr>\n",
       "    <tr>\n",
       "      <th>17</th>\n",
       "      <td>1.0</td>\n",
       "      <td>8.0</td>\n",
       "      <td>16.0</td>\n",
       "      <td>0.0</td>\n",
       "      <td>0.0</td>\n",
       "      <td>0.0</td>\n",
       "    </tr>\n",
       "    <tr>\n",
       "      <th>18</th>\n",
       "      <td>1.0</td>\n",
       "      <td>8.0</td>\n",
       "      <td>16.0</td>\n",
       "      <td>0.0</td>\n",
       "      <td>0.0</td>\n",
       "      <td>0.0</td>\n",
       "    </tr>\n",
       "    <tr>\n",
       "      <th>19</th>\n",
       "      <td>1.0</td>\n",
       "      <td>8.0</td>\n",
       "      <td>16.0</td>\n",
       "      <td>0.0</td>\n",
       "      <td>0.0</td>\n",
       "      <td>0.0</td>\n",
       "    </tr>\n",
       "    <tr>\n",
       "      <th>20</th>\n",
       "      <td>1.0</td>\n",
       "      <td>9.0</td>\n",
       "      <td>15.0</td>\n",
       "      <td>0.0</td>\n",
       "      <td>0.0</td>\n",
       "      <td>0.0</td>\n",
       "    </tr>\n",
       "    <tr>\n",
       "      <th>21</th>\n",
       "      <td>1.0</td>\n",
       "      <td>9.0</td>\n",
       "      <td>15.0</td>\n",
       "      <td>0.0</td>\n",
       "      <td>0.0</td>\n",
       "      <td>0.0</td>\n",
       "    </tr>\n",
       "    <tr>\n",
       "      <th>22</th>\n",
       "      <td>1.0</td>\n",
       "      <td>9.0</td>\n",
       "      <td>15.0</td>\n",
       "      <td>0.0</td>\n",
       "      <td>0.0</td>\n",
       "      <td>0.0</td>\n",
       "    </tr>\n",
       "    <tr>\n",
       "      <th>23</th>\n",
       "      <td>1.0</td>\n",
       "      <td>9.0</td>\n",
       "      <td>15.0</td>\n",
       "      <td>0.0</td>\n",
       "      <td>0.0</td>\n",
       "      <td>0.0</td>\n",
       "    </tr>\n",
       "    <tr>\n",
       "      <th>24</th>\n",
       "      <td>1.0</td>\n",
       "      <td>9.0</td>\n",
       "      <td>15.0</td>\n",
       "      <td>0.0</td>\n",
       "      <td>0.0</td>\n",
       "      <td>0.0</td>\n",
       "    </tr>\n",
       "    <tr>\n",
       "      <th>25</th>\n",
       "      <td>1.0</td>\n",
       "      <td>10.0</td>\n",
       "      <td>14.0</td>\n",
       "      <td>0.0</td>\n",
       "      <td>0.0</td>\n",
       "      <td>0.0</td>\n",
       "    </tr>\n",
       "    <tr>\n",
       "      <th>26</th>\n",
       "      <td>1.0</td>\n",
       "      <td>10.0</td>\n",
       "      <td>14.0</td>\n",
       "      <td>0.0</td>\n",
       "      <td>0.0</td>\n",
       "      <td>0.0</td>\n",
       "    </tr>\n",
       "    <tr>\n",
       "      <th>27</th>\n",
       "      <td>1.0</td>\n",
       "      <td>10.0</td>\n",
       "      <td>14.0</td>\n",
       "      <td>0.0</td>\n",
       "      <td>0.0</td>\n",
       "      <td>0.0</td>\n",
       "    </tr>\n",
       "    <tr>\n",
       "      <th>28</th>\n",
       "      <td>1.0</td>\n",
       "      <td>10.0</td>\n",
       "      <td>14.0</td>\n",
       "      <td>0.0</td>\n",
       "      <td>0.0</td>\n",
       "      <td>0.0</td>\n",
       "    </tr>\n",
       "    <tr>\n",
       "      <th>29</th>\n",
       "      <td>1.0</td>\n",
       "      <td>10.0</td>\n",
       "      <td>14.0</td>\n",
       "      <td>0.0</td>\n",
       "      <td>0.0</td>\n",
       "      <td>0.0</td>\n",
       "    </tr>\n",
       "  </tbody>\n",
       "</table>\n",
       "</div>"
      ],
      "text/plain": [
       "    Recruitement status  Month of recruitement  Months since recruitement   \n",
       "0                   1.0                    1.0                       23.0  \\\n",
       "1                   1.0                    1.0                       23.0   \n",
       "2                   1.0                    2.0                       22.0   \n",
       "3                   1.0                    2.0                       22.0   \n",
       "4                   1.0                    3.0                       21.0   \n",
       "5                   1.0                    3.0                       21.0   \n",
       "6                   1.0                    4.0                       20.0   \n",
       "7                   1.0                    4.0                       20.0   \n",
       "8                   1.0                    5.0                       19.0   \n",
       "9                   1.0                    5.0                       19.0   \n",
       "10                  1.0                    5.0                       19.0   \n",
       "11                  1.0                    6.0                       18.0   \n",
       "12                  1.0                    6.0                       18.0   \n",
       "13                  1.0                    6.0                       18.0   \n",
       "14                  1.0                    7.0                       17.0   \n",
       "15                  1.0                    7.0                       17.0   \n",
       "16                  1.0                    7.0                       17.0   \n",
       "17                  1.0                    8.0                       16.0   \n",
       "18                  1.0                    8.0                       16.0   \n",
       "19                  1.0                    8.0                       16.0   \n",
       "20                  1.0                    9.0                       15.0   \n",
       "21                  1.0                    9.0                       15.0   \n",
       "22                  1.0                    9.0                       15.0   \n",
       "23                  1.0                    9.0                       15.0   \n",
       "24                  1.0                    9.0                       15.0   \n",
       "25                  1.0                   10.0                       14.0   \n",
       "26                  1.0                   10.0                       14.0   \n",
       "27                  1.0                   10.0                       14.0   \n",
       "28                  1.0                   10.0                       14.0   \n",
       "29                  1.0                   10.0                       14.0   \n",
       "\n",
       "    True recessive status  Observed status  diagnose time after treatment  \n",
       "0                     0.0              0.0                            0.0  \n",
       "1                     0.0              0.0                            0.0  \n",
       "2                     0.0              0.0                            0.0  \n",
       "3                     0.0              0.0                            0.0  \n",
       "4                     0.0              0.0                            0.0  \n",
       "5                     0.0              0.0                            0.0  \n",
       "6                     0.0              0.0                            0.0  \n",
       "7                     0.0              0.0                            0.0  \n",
       "8                     0.0              0.0                            0.0  \n",
       "9                     0.0              0.0                            0.0  \n",
       "10                    0.0              0.0                            0.0  \n",
       "11                    0.0              0.0                            0.0  \n",
       "12                    0.0              0.0                            0.0  \n",
       "13                    0.0              0.0                            0.0  \n",
       "14                    0.0              0.0                            0.0  \n",
       "15                    0.0              0.0                            0.0  \n",
       "16                    0.0              0.0                            0.0  \n",
       "17                    0.0              0.0                            0.0  \n",
       "18                    0.0              0.0                            0.0  \n",
       "19                    0.0              0.0                            0.0  \n",
       "20                    0.0              0.0                            0.0  \n",
       "21                    0.0              0.0                            0.0  \n",
       "22                    0.0              0.0                            0.0  \n",
       "23                    0.0              0.0                            0.0  \n",
       "24                    0.0              0.0                            0.0  \n",
       "25                    0.0              0.0                            0.0  \n",
       "26                    0.0              0.0                            0.0  \n",
       "27                    0.0              0.0                            0.0  \n",
       "28                    0.0              0.0                            0.0  \n",
       "29                    0.0              0.0                            0.0  "
      ]
     },
     "execution_count": 919,
     "metadata": {},
     "output_type": "execute_result"
    }
   ],
   "source": [
    "df_looper[0:30]"
   ]
  },
  {
   "cell_type": "code",
   "execution_count": 864,
   "metadata": {},
   "outputs": [
    {
     "data": {
      "text/plain": [
       "array([0., 0.])"
      ]
     },
     "execution_count": 864,
     "metadata": {},
     "output_type": "execute_result"
    }
   ],
   "source": [
    "interim_analyses_looper[-1]"
   ]
  },
  {
   "cell_type": "code",
   "execution_count": 978,
   "metadata": {},
   "outputs": [],
   "source": [
    "number_of_simulations = 10000\n",
    "stopping_array2 = np.zeros((number_of_simulations,2))\n",
    "stopping_at_interim2 = np.zeros((number_of_simulations,2))\n",
    "stopping_at_end2 = np.zeros((number_of_simulations,2))\n",
    "\n",
    "for i in range(0,number_of_simulations):\n",
    "    df_looper, month_looper, interim_analyses_looper = interim_analyses = recruitement_evaluator2(running_months= 48,recruitement_condition= 120, total_number_pat = 120, p = 0.1,interim=[30,60,120])\n",
    "    stopping_array2[i] = np.any(interim_analyses_looper,axis = 0)\n",
    "    stopping_at_interim2[i] = np.any(interim_analyses_looper[:2],axis = 0)\n",
    "    stopping_at_end2[i] = np.any(interim_analyses_looper[-1],axis = 0)"
   ]
  },
  {
   "cell_type": "code",
   "execution_count": 979,
   "metadata": {},
   "outputs": [
    {
     "data": {
      "text/plain": [
       "array([1070.,    2.])"
      ]
     },
     "execution_count": 979,
     "metadata": {},
     "output_type": "execute_result"
    }
   ],
   "source": [
    "stopping_array2.sum(axis = 0)"
   ]
  },
  {
   "cell_type": "code",
   "execution_count": 980,
   "metadata": {},
   "outputs": [
    {
     "data": {
      "text/plain": [
       "array([1070.,    2.])"
      ]
     },
     "execution_count": 980,
     "metadata": {},
     "output_type": "execute_result"
    }
   ],
   "source": [
    "stopping_at_interim2.sum(axis = 0)"
   ]
  },
  {
   "cell_type": "code",
   "execution_count": 981,
   "metadata": {},
   "outputs": [
    {
     "data": {
      "text/plain": [
       "0.0"
      ]
     },
     "execution_count": 981,
     "metadata": {},
     "output_type": "execute_result"
    }
   ],
   "source": [
    "stopping_at_end2.sum()"
   ]
  },
  {
   "cell_type": "markdown",
   "metadata": {},
   "source": [
    "## some distribution analysis"
   ]
  },
  {
   "cell_type": "code",
   "execution_count": 147,
   "metadata": {},
   "outputs": [],
   "source": [
    "durations = np.zeros(100000)\n",
    "for rander in range(0,100000):\n",
    "    diagnose_time = int(np.random.binomial(24, 0.4, 1))\n",
    "    if diagnose_time != 4 and diagnose_time != 9 and diagnose_time != 24:\n",
    "        diagnose_time \n",
    "    durations[rander] = int(np.random.binomial(24, 0.4, 1))\n",
    "        \n",
    "    "
   ]
  },
  {
   "cell_type": "code",
   "execution_count": 149,
   "metadata": {},
   "outputs": [
    {
     "data": {
      "text/plain": [
       "(array([6.5000e+01, 1.2460e+03, 8.2220e+03, 2.3100e+04, 3.2241e+04,\n",
       "        2.3657e+04, 9.3200e+03, 1.9090e+03, 2.3200e+02, 8.0000e+00]),\n",
       " array([ 1.,  3.,  5.,  7.,  9., 11., 13., 15., 17., 19., 21.]),\n",
       " <BarContainer object of 10 artists>)"
      ]
     },
     "execution_count": 149,
     "metadata": {},
     "output_type": "execute_result"
    },
    {
     "data": {
      "image/png": "[encoded data removed]",
      "text/plain": [
       "<Figure size 640x480 with 1 Axes>"
      ]
     },
     "metadata": {},
     "output_type": "display_data"
    }
   ],
   "source": [
    "plt.hist(durations)"
   ]
  },
  {
   "cell_type": "markdown",
   "metadata": {},
   "source": [
    "## Full elaborated simulation"
   ]
  },
  {
   "cell_type": "code",
   "execution_count": 245,
   "metadata": {},
   "outputs": [
    {
     "data": {
      "image/png": "[encoded data removed]",
      "text/plain": [
       "<Figure size 1000x600 with 1 Axes>"
      ]
     },
     "metadata": {},
     "output_type": "display_data"
    }
   ],
   "source": [
    "x = np.arange(1, number_of_months + 1)\n",
    "pmf = binom.pmf(x, number_of_months, 0.32)\n",
    "pmf = pmf**0.3/(pmf**0.3).sum()\n",
    "\n",
    "# Define weights based on examination\n",
    "weights = np.ones_like(pmf)\n",
    "weights_ultrasound = np.zeros_like(pmf)\n",
    "weights_PET = np.zeros_like(pmf)\n",
    "\n",
    "weights_ultrasound[[1,5,11,14,17,20]] = 0.3\n",
    "weights_PET[[3,8,23]] = 1\n",
    "\n",
    "#some extra customization\n",
    "weights += weights_ultrasound + weights_PET\n",
    "weights[-1] = 300\n",
    "weights[14] = 2\n",
    "weights[17] = 3\n",
    "weights[0] = 0.5\n",
    "\n",
    "# Apply weights to the PMF\n",
    "weighted_pmf = pmf * weights\n",
    "\n",
    "# Normalize the weighted PMF\n",
    "weighted_pmf /= np.sum(weighted_pmf)\n",
    "\n",
    "# Plot the original PMF and weighted PMF\n",
    "plt.figure(figsize=(10, 6))\n",
    "plt.bar(x - 0.2, pmf, width=0.4, label='Original PMF', color='blue', alpha=0.7)\n",
    "plt.bar(x + 0.2, weighted_pmf, width=0.4, label='Weighted PMF', color='orange', alpha=0.7)\n",
    "plt.xlabel('Months')\n",
    "plt.ylabel('Probability')\n",
    "plt.xticks(x)\n",
    "plt.title('Comparison of Original PMF and customized PMF')\n",
    "plt.legend()\n",
    "plt.show()"
   ]
  },
  {
   "cell_type": "code",
   "execution_count": 358,
   "metadata": {},
   "outputs": [],
   "source": [
    "def rate_sampler(month):\n",
    "    rate_change = [5,9,13,17]\n",
    "    rate_index = 4 - (np.array(rate_change) > month).sum()\n",
    "    if rate_index == 0:\n",
    "        sample = np.round(np.random.normal(2,2/3,1))\n",
    "        sample = np.clip(sample,0,4)\n",
    "    elif rate_index == 1:\n",
    "        sample = np.round(np.random.normal(3,2/3,1))\n",
    "        sample = np.clip(sample,0,7)\n",
    "    elif rate_index == 2:\n",
    "        sample = np.round(np.random.normal(5,4/6,1))\n",
    "        sample = np.clip(sample,0,8)\n",
    "    elif rate_index == 3:\n",
    "        sample = np.round(np.random.normal(6, 4/6, 1))\n",
    "        sample = np.clip(sample, 0, 8)\n",
    "    elif rate_index >= 4:\n",
    "        sample = np.round(np.random.normal(7, 4/6, 1))\n",
    "        sample = np.clip(sample, 0, 10)\n",
    "    return sample\n",
    "\n",
    "def sample_custom_pmf(size=1):\n",
    "    x = np.arange(1, 24 + 1)\n",
    "    pmf = binom.pmf(x, 24, 0.32)\n",
    "    pmf = pmf**0.3/(pmf**0.3).sum()\n",
    "\n",
    "    # Define weights based on examination\n",
    "    weights = np.ones_like(pmf)\n",
    "    weights_ultrasound = np.zeros_like(pmf)\n",
    "    weights_PET = np.zeros_like(pmf)\n",
    "\n",
    "    weights_ultrasound[[1,5,11,14,17,20]] = 0.3\n",
    "    weights_PET[[3,8,23]] = 1\n",
    "\n",
    "    #some extra customization\n",
    "    weights += weights_ultrasound + weights_PET\n",
    "    weights[-1] = 300\n",
    "    weights[14] = 2\n",
    "    weights[17] = 3\n",
    "    weights[0] = 0.5\n",
    "\n",
    "    # Apply weights to the PMF\n",
    "    weighted_pmf = pmf * weights\n",
    "\n",
    "    # Normalize the weighted PMF\n",
    "    weighted_pmf /= np.sum(weighted_pmf)\n",
    "    cdf = list(accumulate(weighted_pmf))\n",
    "    return np.searchsorted(cdf, np.random.rand(size))+1\n",
    "\n",
    "def recruitement_evaluator_extended(running_months = 30, recruitement_condition = None, total_number_pat = 120, p = 0.1, interim = None, p_interim = 0.10):\n",
    "    if interim != None:\n",
    "        interim_analyses = np.zeros((len(interim),2))\n",
    "    else: \n",
    "        interim_analyses = 0\n",
    "    interim_looper = 0\n",
    "    number_of_follow_up_months = 24\n",
    "    recruitement_list = np.zeros((total_number_pat,1))\n",
    "    patients_time_count = np.zeros((total_number_pat,1))\n",
    "    patient_true_status = np.zeros((total_number_pat,1))\n",
    "    patient_observed_status = np.zeros((total_number_pat,1))\n",
    "    recessive_patients_diagnose_time = np.zeros((total_number_pat,1))\n",
    "    recruitement_month = np.zeros((total_number_pat,1))\n",
    "    patient_index = 0 #index of actual patient to be recruited\n",
    "    rate_index = 0 #index of which rate is being used of the rate\n",
    "    x = np.arange(0, number_of_follow_up_months + 1)\n",
    "    #loop for recruiting a specified amount of patients\n",
    "    if recruitement_condition == None:\n",
    "        for month in range(1,running_months + 1):\n",
    "            # update the already recruited patients\n",
    "            patients_time_count[:patient_index] += 1\n",
    "            for recruited_patient_index in range(0,total_number_pat):\n",
    "                #update the observed status of the patients\n",
    "                if patient_true_status[recruited_patient_index] == 1 and recessive_patients_diagnose_time[recruited_patient_index] == patients_time_count[recruited_patient_index]:\n",
    "                    patient_observed_status[recruited_patient_index] = 1\n",
    "            #sample the number of recruited patients\n",
    "            if patient_index < total_number_pat - 1:\n",
    "                number_of_new_patients = int(rate_sampler(month))\n",
    "                if number_of_new_patients > (total_number_pat - 1)-patient_index:\n",
    "                    number_of_new_patients = (total_number_pat)-patient_index                \n",
    "                for k in range(0,number_of_new_patients):\n",
    "                    patient_true_status[patient_index] = 0 if random.uniform(0,1) > p else 1\n",
    "                    recruitement_list[patient_index] = 1\n",
    "                    recruitement_month[patient_index] = month\n",
    "                    if patient_true_status[patient_index] == 1:\n",
    "                        recessive_patients_diagnose_time[patient_index] = int(sample_custom_pmf(size = 1))\n",
    "                    patient_index += 1\n",
    "            if (interim != None) and (recruitement_list.sum() >= interim[interim_looper]):\n",
    "                interim_analyses[interim_looper] = interim_evaluator(recruitement_list[:interim[interim_looper]],patient_true_status[:interim[interim_looper]],patient_observed_status[:interim[interim_looper]],p_interim)\n",
    "                if interim_looper < len(interim)-1:\n",
    "                    interim_looper += 1\n",
    "   \n",
    "    #loop for recruiting for a certain amount of months \n",
    "    else:\n",
    "        month = 1\n",
    "        while patient_index < recruitement_condition:\n",
    "            # update the already recruited patients\n",
    "            patients_time_count[:patient_index] += 1\n",
    "            for recruited_patient_index in range(0,patient_index):\n",
    "                #update the observed status of the patients\n",
    "                if patient_true_status[recruited_patient_index] == 1:\n",
    "                    if recessive_patients_diagnose_time[recruited_patient_index] == patients_time_count[recruited_patient_index]:\n",
    "                        patient_observed_status[recruited_patient_index] = 1\n",
    "            # recruite new patients\n",
    "            if patient_index < total_number_pat - 1:\n",
    "                number_of_new_patients = int(rate_sampler(month))\n",
    "                if number_of_new_patients > (recruitement_condition - 1)-patient_index:\n",
    "                    number_of_new_patients = (recruitement_condition)-patient_index    \n",
    "                for k in range(0,number_of_new_patients):\n",
    "                    patient_true_status[patient_index] = 0 if random.uniform(0,1) > p else 1\n",
    "                    recruitement_list[patient_index] = 1\n",
    "                    recruitement_month[patient_index] = month\n",
    "                    if patient_true_status[patient_index] == 1:\n",
    "                        recessive_patients_diagnose_time[patient_index] = int(sample_custom_pmf(size = 1))\n",
    "                    patient_index += 1  \n",
    "            if (interim != None) and (recruitement_list.sum() >= interim[interim_looper]):\n",
    "                interim_analyses[interim_looper] = interim_evaluator(recruitement_list[:interim[interim_looper]],patient_true_status[:interim[interim_looper]],patient_observed_status[:interim[interim_looper]],p_interim)\n",
    "                interim_looper += 1     \n",
    "            month += 1     \n",
    "\n",
    "    concatenated_data = np.concatenate((recruitement_list,recruitement_month, patients_time_count,patient_true_status, patient_observed_status, recessive_patients_diagnose_time), axis=1)\n",
    "    df = pd.DataFrame(concatenated_data, columns=['Recruitement status','Month of recruitement', 'Months since recruitement', 'True recessive status', 'Observed status', 'diagnose time after treatment'])\n",
    "    return df, month, interim_analyses\n"
   ]
  },
  {
   "cell_type": "code",
   "execution_count": 359,
   "metadata": {},
   "outputs": [],
   "source": [
    "df_looper, month_looper, interim_analyses_looper = interim_analyses = recruitement_evaluator_extended(running_months=48,recruitement_condition= 30, total_number_pat = 120, p = 0.1,interim=[30,60,120])\n"
   ]
  },
  {
   "cell_type": "code",
   "execution_count": 360,
   "metadata": {},
   "outputs": [
    {
     "data": {
      "text/html": [
       "<div>\n",
       "<style scoped>\n",
       "    .dataframe tbody tr th:only-of-type {\n",
       "        vertical-align: middle;\n",
       "    }\n",
       "\n",
       "    .dataframe tbody tr th {\n",
       "        vertical-align: top;\n",
       "    }\n",
       "\n",
       "    .dataframe thead th {\n",
       "        text-align: right;\n",
       "    }\n",
       "</style>\n",
       "<table border=\"1\" class=\"dataframe\">\n",
       "  <thead>\n",
       "    <tr style=\"text-align: right;\">\n",
       "      <th></th>\n",
       "      <th>Recruitement status</th>\n",
       "      <th>Month of recruitement</th>\n",
       "      <th>Months since recruitement</th>\n",
       "      <th>True recessive status</th>\n",
       "      <th>Observed status</th>\n",
       "      <th>diagnose time after treatment</th>\n",
       "    </tr>\n",
       "  </thead>\n",
       "  <tbody>\n",
       "    <tr>\n",
       "      <th>0</th>\n",
       "      <td>1.0</td>\n",
       "      <td>1.0</td>\n",
       "      <td>9.0</td>\n",
       "      <td>0.0</td>\n",
       "      <td>0.0</td>\n",
       "      <td>0.0</td>\n",
       "    </tr>\n",
       "    <tr>\n",
       "      <th>1</th>\n",
       "      <td>1.0</td>\n",
       "      <td>1.0</td>\n",
       "      <td>9.0</td>\n",
       "      <td>0.0</td>\n",
       "      <td>0.0</td>\n",
       "      <td>0.0</td>\n",
       "    </tr>\n",
       "    <tr>\n",
       "      <th>2</th>\n",
       "      <td>1.0</td>\n",
       "      <td>2.0</td>\n",
       "      <td>8.0</td>\n",
       "      <td>1.0</td>\n",
       "      <td>0.0</td>\n",
       "      <td>11.0</td>\n",
       "    </tr>\n",
       "    <tr>\n",
       "      <th>3</th>\n",
       "      <td>1.0</td>\n",
       "      <td>2.0</td>\n",
       "      <td>8.0</td>\n",
       "      <td>0.0</td>\n",
       "      <td>0.0</td>\n",
       "      <td>0.0</td>\n",
       "    </tr>\n",
       "    <tr>\n",
       "      <th>4</th>\n",
       "      <td>1.0</td>\n",
       "      <td>3.0</td>\n",
       "      <td>7.0</td>\n",
       "      <td>0.0</td>\n",
       "      <td>0.0</td>\n",
       "      <td>0.0</td>\n",
       "    </tr>\n",
       "    <tr>\n",
       "      <th>5</th>\n",
       "      <td>1.0</td>\n",
       "      <td>3.0</td>\n",
       "      <td>7.0</td>\n",
       "      <td>0.0</td>\n",
       "      <td>0.0</td>\n",
       "      <td>0.0</td>\n",
       "    </tr>\n",
       "    <tr>\n",
       "      <th>6</th>\n",
       "      <td>1.0</td>\n",
       "      <td>3.0</td>\n",
       "      <td>7.0</td>\n",
       "      <td>0.0</td>\n",
       "      <td>0.0</td>\n",
       "      <td>0.0</td>\n",
       "    </tr>\n",
       "    <tr>\n",
       "      <th>7</th>\n",
       "      <td>1.0</td>\n",
       "      <td>4.0</td>\n",
       "      <td>6.0</td>\n",
       "      <td>0.0</td>\n",
       "      <td>0.0</td>\n",
       "      <td>0.0</td>\n",
       "    </tr>\n",
       "    <tr>\n",
       "      <th>8</th>\n",
       "      <td>1.0</td>\n",
       "      <td>4.0</td>\n",
       "      <td>6.0</td>\n",
       "      <td>0.0</td>\n",
       "      <td>0.0</td>\n",
       "      <td>0.0</td>\n",
       "    </tr>\n",
       "    <tr>\n",
       "      <th>9</th>\n",
       "      <td>1.0</td>\n",
       "      <td>5.0</td>\n",
       "      <td>5.0</td>\n",
       "      <td>0.0</td>\n",
       "      <td>0.0</td>\n",
       "      <td>0.0</td>\n",
       "    </tr>\n",
       "    <tr>\n",
       "      <th>10</th>\n",
       "      <td>1.0</td>\n",
       "      <td>5.0</td>\n",
       "      <td>5.0</td>\n",
       "      <td>0.0</td>\n",
       "      <td>0.0</td>\n",
       "      <td>0.0</td>\n",
       "    </tr>\n",
       "    <tr>\n",
       "      <th>11</th>\n",
       "      <td>1.0</td>\n",
       "      <td>5.0</td>\n",
       "      <td>5.0</td>\n",
       "      <td>0.0</td>\n",
       "      <td>0.0</td>\n",
       "      <td>0.0</td>\n",
       "    </tr>\n",
       "    <tr>\n",
       "      <th>12</th>\n",
       "      <td>1.0</td>\n",
       "      <td>6.0</td>\n",
       "      <td>4.0</td>\n",
       "      <td>0.0</td>\n",
       "      <td>0.0</td>\n",
       "      <td>0.0</td>\n",
       "    </tr>\n",
       "    <tr>\n",
       "      <th>13</th>\n",
       "      <td>1.0</td>\n",
       "      <td>6.0</td>\n",
       "      <td>4.0</td>\n",
       "      <td>0.0</td>\n",
       "      <td>0.0</td>\n",
       "      <td>0.0</td>\n",
       "    </tr>\n",
       "    <tr>\n",
       "      <th>14</th>\n",
       "      <td>1.0</td>\n",
       "      <td>6.0</td>\n",
       "      <td>4.0</td>\n",
       "      <td>0.0</td>\n",
       "      <td>0.0</td>\n",
       "      <td>0.0</td>\n",
       "    </tr>\n",
       "    <tr>\n",
       "      <th>15</th>\n",
       "      <td>1.0</td>\n",
       "      <td>6.0</td>\n",
       "      <td>4.0</td>\n",
       "      <td>0.0</td>\n",
       "      <td>0.0</td>\n",
       "      <td>0.0</td>\n",
       "    </tr>\n",
       "    <tr>\n",
       "      <th>16</th>\n",
       "      <td>1.0</td>\n",
       "      <td>7.0</td>\n",
       "      <td>3.0</td>\n",
       "      <td>0.0</td>\n",
       "      <td>0.0</td>\n",
       "      <td>0.0</td>\n",
       "    </tr>\n",
       "    <tr>\n",
       "      <th>17</th>\n",
       "      <td>1.0</td>\n",
       "      <td>7.0</td>\n",
       "      <td>3.0</td>\n",
       "      <td>0.0</td>\n",
       "      <td>0.0</td>\n",
       "      <td>0.0</td>\n",
       "    </tr>\n",
       "    <tr>\n",
       "      <th>18</th>\n",
       "      <td>1.0</td>\n",
       "      <td>7.0</td>\n",
       "      <td>3.0</td>\n",
       "      <td>1.0</td>\n",
       "      <td>0.0</td>\n",
       "      <td>7.0</td>\n",
       "    </tr>\n",
       "    <tr>\n",
       "      <th>19</th>\n",
       "      <td>1.0</td>\n",
       "      <td>7.0</td>\n",
       "      <td>3.0</td>\n",
       "      <td>0.0</td>\n",
       "      <td>0.0</td>\n",
       "      <td>0.0</td>\n",
       "    </tr>\n",
       "    <tr>\n",
       "      <th>20</th>\n",
       "      <td>1.0</td>\n",
       "      <td>8.0</td>\n",
       "      <td>2.0</td>\n",
       "      <td>1.0</td>\n",
       "      <td>1.0</td>\n",
       "      <td>1.0</td>\n",
       "    </tr>\n",
       "    <tr>\n",
       "      <th>21</th>\n",
       "      <td>1.0</td>\n",
       "      <td>8.0</td>\n",
       "      <td>2.0</td>\n",
       "      <td>0.0</td>\n",
       "      <td>0.0</td>\n",
       "      <td>0.0</td>\n",
       "    </tr>\n",
       "    <tr>\n",
       "      <th>22</th>\n",
       "      <td>1.0</td>\n",
       "      <td>8.0</td>\n",
       "      <td>2.0</td>\n",
       "      <td>0.0</td>\n",
       "      <td>0.0</td>\n",
       "      <td>0.0</td>\n",
       "    </tr>\n",
       "    <tr>\n",
       "      <th>23</th>\n",
       "      <td>1.0</td>\n",
       "      <td>9.0</td>\n",
       "      <td>1.0</td>\n",
       "      <td>0.0</td>\n",
       "      <td>0.0</td>\n",
       "      <td>0.0</td>\n",
       "    </tr>\n",
       "    <tr>\n",
       "      <th>24</th>\n",
       "      <td>1.0</td>\n",
       "      <td>9.0</td>\n",
       "      <td>1.0</td>\n",
       "      <td>0.0</td>\n",
       "      <td>0.0</td>\n",
       "      <td>0.0</td>\n",
       "    </tr>\n",
       "    <tr>\n",
       "      <th>25</th>\n",
       "      <td>1.0</td>\n",
       "      <td>9.0</td>\n",
       "      <td>1.0</td>\n",
       "      <td>0.0</td>\n",
       "      <td>0.0</td>\n",
       "      <td>0.0</td>\n",
       "    </tr>\n",
       "    <tr>\n",
       "      <th>26</th>\n",
       "      <td>1.0</td>\n",
       "      <td>9.0</td>\n",
       "      <td>1.0</td>\n",
       "      <td>0.0</td>\n",
       "      <td>0.0</td>\n",
       "      <td>0.0</td>\n",
       "    </tr>\n",
       "    <tr>\n",
       "      <th>27</th>\n",
       "      <td>1.0</td>\n",
       "      <td>9.0</td>\n",
       "      <td>1.0</td>\n",
       "      <td>0.0</td>\n",
       "      <td>0.0</td>\n",
       "      <td>0.0</td>\n",
       "    </tr>\n",
       "    <tr>\n",
       "      <th>28</th>\n",
       "      <td>1.0</td>\n",
       "      <td>10.0</td>\n",
       "      <td>0.0</td>\n",
       "      <td>0.0</td>\n",
       "      <td>0.0</td>\n",
       "      <td>0.0</td>\n",
       "    </tr>\n",
       "    <tr>\n",
       "      <th>29</th>\n",
       "      <td>1.0</td>\n",
       "      <td>10.0</td>\n",
       "      <td>0.0</td>\n",
       "      <td>1.0</td>\n",
       "      <td>0.0</td>\n",
       "      <td>1.0</td>\n",
       "    </tr>\n",
       "    <tr>\n",
       "      <th>30</th>\n",
       "      <td>0.0</td>\n",
       "      <td>0.0</td>\n",
       "      <td>0.0</td>\n",
       "      <td>0.0</td>\n",
       "      <td>0.0</td>\n",
       "      <td>0.0</td>\n",
       "    </tr>\n",
       "    <tr>\n",
       "      <th>31</th>\n",
       "      <td>0.0</td>\n",
       "      <td>0.0</td>\n",
       "      <td>0.0</td>\n",
       "      <td>0.0</td>\n",
       "      <td>0.0</td>\n",
       "      <td>0.0</td>\n",
       "    </tr>\n",
       "    <tr>\n",
       "      <th>32</th>\n",
       "      <td>0.0</td>\n",
       "      <td>0.0</td>\n",
       "      <td>0.0</td>\n",
       "      <td>0.0</td>\n",
       "      <td>0.0</td>\n",
       "      <td>0.0</td>\n",
       "    </tr>\n",
       "    <tr>\n",
       "      <th>33</th>\n",
       "      <td>0.0</td>\n",
       "      <td>0.0</td>\n",
       "      <td>0.0</td>\n",
       "      <td>0.0</td>\n",
       "      <td>0.0</td>\n",
       "      <td>0.0</td>\n",
       "    </tr>\n",
       "    <tr>\n",
       "      <th>34</th>\n",
       "      <td>0.0</td>\n",
       "      <td>0.0</td>\n",
       "      <td>0.0</td>\n",
       "      <td>0.0</td>\n",
       "      <td>0.0</td>\n",
       "      <td>0.0</td>\n",
       "    </tr>\n",
       "    <tr>\n",
       "      <th>35</th>\n",
       "      <td>0.0</td>\n",
       "      <td>0.0</td>\n",
       "      <td>0.0</td>\n",
       "      <td>0.0</td>\n",
       "      <td>0.0</td>\n",
       "      <td>0.0</td>\n",
       "    </tr>\n",
       "    <tr>\n",
       "      <th>36</th>\n",
       "      <td>0.0</td>\n",
       "      <td>0.0</td>\n",
       "      <td>0.0</td>\n",
       "      <td>0.0</td>\n",
       "      <td>0.0</td>\n",
       "      <td>0.0</td>\n",
       "    </tr>\n",
       "    <tr>\n",
       "      <th>37</th>\n",
       "      <td>0.0</td>\n",
       "      <td>0.0</td>\n",
       "      <td>0.0</td>\n",
       "      <td>0.0</td>\n",
       "      <td>0.0</td>\n",
       "      <td>0.0</td>\n",
       "    </tr>\n",
       "    <tr>\n",
       "      <th>38</th>\n",
       "      <td>0.0</td>\n",
       "      <td>0.0</td>\n",
       "      <td>0.0</td>\n",
       "      <td>0.0</td>\n",
       "      <td>0.0</td>\n",
       "      <td>0.0</td>\n",
       "    </tr>\n",
       "    <tr>\n",
       "      <th>39</th>\n",
       "      <td>0.0</td>\n",
       "      <td>0.0</td>\n",
       "      <td>0.0</td>\n",
       "      <td>0.0</td>\n",
       "      <td>0.0</td>\n",
       "      <td>0.0</td>\n",
       "    </tr>\n",
       "    <tr>\n",
       "      <th>40</th>\n",
       "      <td>0.0</td>\n",
       "      <td>0.0</td>\n",
       "      <td>0.0</td>\n",
       "      <td>0.0</td>\n",
       "      <td>0.0</td>\n",
       "      <td>0.0</td>\n",
       "    </tr>\n",
       "    <tr>\n",
       "      <th>41</th>\n",
       "      <td>0.0</td>\n",
       "      <td>0.0</td>\n",
       "      <td>0.0</td>\n",
       "      <td>0.0</td>\n",
       "      <td>0.0</td>\n",
       "      <td>0.0</td>\n",
       "    </tr>\n",
       "    <tr>\n",
       "      <th>42</th>\n",
       "      <td>0.0</td>\n",
       "      <td>0.0</td>\n",
       "      <td>0.0</td>\n",
       "      <td>0.0</td>\n",
       "      <td>0.0</td>\n",
       "      <td>0.0</td>\n",
       "    </tr>\n",
       "    <tr>\n",
       "      <th>43</th>\n",
       "      <td>0.0</td>\n",
       "      <td>0.0</td>\n",
       "      <td>0.0</td>\n",
       "      <td>0.0</td>\n",
       "      <td>0.0</td>\n",
       "      <td>0.0</td>\n",
       "    </tr>\n",
       "    <tr>\n",
       "      <th>44</th>\n",
       "      <td>0.0</td>\n",
       "      <td>0.0</td>\n",
       "      <td>0.0</td>\n",
       "      <td>0.0</td>\n",
       "      <td>0.0</td>\n",
       "      <td>0.0</td>\n",
       "    </tr>\n",
       "    <tr>\n",
       "      <th>45</th>\n",
       "      <td>0.0</td>\n",
       "      <td>0.0</td>\n",
       "      <td>0.0</td>\n",
       "      <td>0.0</td>\n",
       "      <td>0.0</td>\n",
       "      <td>0.0</td>\n",
       "    </tr>\n",
       "    <tr>\n",
       "      <th>46</th>\n",
       "      <td>0.0</td>\n",
       "      <td>0.0</td>\n",
       "      <td>0.0</td>\n",
       "      <td>0.0</td>\n",
       "      <td>0.0</td>\n",
       "      <td>0.0</td>\n",
       "    </tr>\n",
       "    <tr>\n",
       "      <th>47</th>\n",
       "      <td>0.0</td>\n",
       "      <td>0.0</td>\n",
       "      <td>0.0</td>\n",
       "      <td>0.0</td>\n",
       "      <td>0.0</td>\n",
       "      <td>0.0</td>\n",
       "    </tr>\n",
       "    <tr>\n",
       "      <th>48</th>\n",
       "      <td>0.0</td>\n",
       "      <td>0.0</td>\n",
       "      <td>0.0</td>\n",
       "      <td>0.0</td>\n",
       "      <td>0.0</td>\n",
       "      <td>0.0</td>\n",
       "    </tr>\n",
       "    <tr>\n",
       "      <th>49</th>\n",
       "      <td>0.0</td>\n",
       "      <td>0.0</td>\n",
       "      <td>0.0</td>\n",
       "      <td>0.0</td>\n",
       "      <td>0.0</td>\n",
       "      <td>0.0</td>\n",
       "    </tr>\n",
       "    <tr>\n",
       "      <th>50</th>\n",
       "      <td>0.0</td>\n",
       "      <td>0.0</td>\n",
       "      <td>0.0</td>\n",
       "      <td>0.0</td>\n",
       "      <td>0.0</td>\n",
       "      <td>0.0</td>\n",
       "    </tr>\n",
       "    <tr>\n",
       "      <th>51</th>\n",
       "      <td>0.0</td>\n",
       "      <td>0.0</td>\n",
       "      <td>0.0</td>\n",
       "      <td>0.0</td>\n",
       "      <td>0.0</td>\n",
       "      <td>0.0</td>\n",
       "    </tr>\n",
       "    <tr>\n",
       "      <th>52</th>\n",
       "      <td>0.0</td>\n",
       "      <td>0.0</td>\n",
       "      <td>0.0</td>\n",
       "      <td>0.0</td>\n",
       "      <td>0.0</td>\n",
       "      <td>0.0</td>\n",
       "    </tr>\n",
       "    <tr>\n",
       "      <th>53</th>\n",
       "      <td>0.0</td>\n",
       "      <td>0.0</td>\n",
       "      <td>0.0</td>\n",
       "      <td>0.0</td>\n",
       "      <td>0.0</td>\n",
       "      <td>0.0</td>\n",
       "    </tr>\n",
       "    <tr>\n",
       "      <th>54</th>\n",
       "      <td>0.0</td>\n",
       "      <td>0.0</td>\n",
       "      <td>0.0</td>\n",
       "      <td>0.0</td>\n",
       "      <td>0.0</td>\n",
       "      <td>0.0</td>\n",
       "    </tr>\n",
       "    <tr>\n",
       "      <th>55</th>\n",
       "      <td>0.0</td>\n",
       "      <td>0.0</td>\n",
       "      <td>0.0</td>\n",
       "      <td>0.0</td>\n",
       "      <td>0.0</td>\n",
       "      <td>0.0</td>\n",
       "    </tr>\n",
       "    <tr>\n",
       "      <th>56</th>\n",
       "      <td>0.0</td>\n",
       "      <td>0.0</td>\n",
       "      <td>0.0</td>\n",
       "      <td>0.0</td>\n",
       "      <td>0.0</td>\n",
       "      <td>0.0</td>\n",
       "    </tr>\n",
       "    <tr>\n",
       "      <th>57</th>\n",
       "      <td>0.0</td>\n",
       "      <td>0.0</td>\n",
       "      <td>0.0</td>\n",
       "      <td>0.0</td>\n",
       "      <td>0.0</td>\n",
       "      <td>0.0</td>\n",
       "    </tr>\n",
       "    <tr>\n",
       "      <th>58</th>\n",
       "      <td>0.0</td>\n",
       "      <td>0.0</td>\n",
       "      <td>0.0</td>\n",
       "      <td>0.0</td>\n",
       "      <td>0.0</td>\n",
       "      <td>0.0</td>\n",
       "    </tr>\n",
       "    <tr>\n",
       "      <th>59</th>\n",
       "      <td>0.0</td>\n",
       "      <td>0.0</td>\n",
       "      <td>0.0</td>\n",
       "      <td>0.0</td>\n",
       "      <td>0.0</td>\n",
       "      <td>0.0</td>\n",
       "    </tr>\n",
       "  </tbody>\n",
       "</table>\n",
       "</div>"
      ],
      "text/plain": [
       "    Recruitement status  Month of recruitement  Months since recruitement   \n",
       "0                   1.0                    1.0                        9.0  \\\n",
       "1                   1.0                    1.0                        9.0   \n",
       "2                   1.0                    2.0                        8.0   \n",
       "3                   1.0                    2.0                        8.0   \n",
       "4                   1.0                    3.0                        7.0   \n",
       "5                   1.0                    3.0                        7.0   \n",
       "6                   1.0                    3.0                        7.0   \n",
       "7                   1.0                    4.0                        6.0   \n",
       "8                   1.0                    4.0                        6.0   \n",
       "9                   1.0                    5.0                        5.0   \n",
       "10                  1.0                    5.0                        5.0   \n",
       "11                  1.0                    5.0                        5.0   \n",
       "12                  1.0                    6.0                        4.0   \n",
       "13                  1.0                    6.0                        4.0   \n",
       "14                  1.0                    6.0                        4.0   \n",
       "15                  1.0                    6.0                        4.0   \n",
       "16                  1.0                    7.0                        3.0   \n",
       "17                  1.0                    7.0                        3.0   \n",
       "18                  1.0                    7.0                        3.0   \n",
       "19                  1.0                    7.0                        3.0   \n",
       "20                  1.0                    8.0                        2.0   \n",
       "21                  1.0                    8.0                        2.0   \n",
       "22                  1.0                    8.0                        2.0   \n",
       "23                  1.0                    9.0                        1.0   \n",
       "24                  1.0                    9.0                        1.0   \n",
       "25                  1.0                    9.0                        1.0   \n",
       "26                  1.0                    9.0                        1.0   \n",
       "27                  1.0                    9.0                        1.0   \n",
       "28                  1.0                   10.0                        0.0   \n",
       "29                  1.0                   10.0                        0.0   \n",
       "30                  0.0                    0.0                        0.0   \n",
       "31                  0.0                    0.0                        0.0   \n",
       "32                  0.0                    0.0                        0.0   \n",
       "33                  0.0                    0.0                        0.0   \n",
       "34                  0.0                    0.0                        0.0   \n",
       "35                  0.0                    0.0                        0.0   \n",
       "36                  0.0                    0.0                        0.0   \n",
       "37                  0.0                    0.0                        0.0   \n",
       "38                  0.0                    0.0                        0.0   \n",
       "39                  0.0                    0.0                        0.0   \n",
       "40                  0.0                    0.0                        0.0   \n",
       "41                  0.0                    0.0                        0.0   \n",
       "42                  0.0                    0.0                        0.0   \n",
       "43                  0.0                    0.0                        0.0   \n",
       "44                  0.0                    0.0                        0.0   \n",
       "45                  0.0                    0.0                        0.0   \n",
       "46                  0.0                    0.0                        0.0   \n",
       "47                  0.0                    0.0                        0.0   \n",
       "48                  0.0                    0.0                        0.0   \n",
       "49                  0.0                    0.0                        0.0   \n",
       "50                  0.0                    0.0                        0.0   \n",
       "51                  0.0                    0.0                        0.0   \n",
       "52                  0.0                    0.0                        0.0   \n",
       "53                  0.0                    0.0                        0.0   \n",
       "54                  0.0                    0.0                        0.0   \n",
       "55                  0.0                    0.0                        0.0   \n",
       "56                  0.0                    0.0                        0.0   \n",
       "57                  0.0                    0.0                        0.0   \n",
       "58                  0.0                    0.0                        0.0   \n",
       "59                  0.0                    0.0                        0.0   \n",
       "\n",
       "    True recessive status  Observed status  diagnose time after treatment  \n",
       "0                     0.0              0.0                            0.0  \n",
       "1                     0.0              0.0                            0.0  \n",
       "2                     1.0              0.0                           11.0  \n",
       "3                     0.0              0.0                            0.0  \n",
       "4                     0.0              0.0                            0.0  \n",
       "5                     0.0              0.0                            0.0  \n",
       "6                     0.0              0.0                            0.0  \n",
       "7                     0.0              0.0                            0.0  \n",
       "8                     0.0              0.0                            0.0  \n",
       "9                     0.0              0.0                            0.0  \n",
       "10                    0.0              0.0                            0.0  \n",
       "11                    0.0              0.0                            0.0  \n",
       "12                    0.0              0.0                            0.0  \n",
       "13                    0.0              0.0                            0.0  \n",
       "14                    0.0              0.0                            0.0  \n",
       "15                    0.0              0.0                            0.0  \n",
       "16                    0.0              0.0                            0.0  \n",
       "17                    0.0              0.0                            0.0  \n",
       "18                    1.0              0.0                            7.0  \n",
       "19                    0.0              0.0                            0.0  \n",
       "20                    1.0              1.0                            1.0  \n",
       "21                    0.0              0.0                            0.0  \n",
       "22                    0.0              0.0                            0.0  \n",
       "23                    0.0              0.0                            0.0  \n",
       "24                    0.0              0.0                            0.0  \n",
       "25                    0.0              0.0                            0.0  \n",
       "26                    0.0              0.0                            0.0  \n",
       "27                    0.0              0.0                            0.0  \n",
       "28                    0.0              0.0                            0.0  \n",
       "29                    1.0              0.0                            1.0  \n",
       "30                    0.0              0.0                            0.0  \n",
       "31                    0.0              0.0                            0.0  \n",
       "32                    0.0              0.0                            0.0  \n",
       "33                    0.0              0.0                            0.0  \n",
       "34                    0.0              0.0                            0.0  \n",
       "35                    0.0              0.0                            0.0  \n",
       "36                    0.0              0.0                            0.0  \n",
       "37                    0.0              0.0                            0.0  \n",
       "38                    0.0              0.0                            0.0  \n",
       "39                    0.0              0.0                            0.0  \n",
       "40                    0.0              0.0                            0.0  \n",
       "41                    0.0              0.0                            0.0  \n",
       "42                    0.0              0.0                            0.0  \n",
       "43                    0.0              0.0                            0.0  \n",
       "44                    0.0              0.0                            0.0  \n",
       "45                    0.0              0.0                            0.0  \n",
       "46                    0.0              0.0                            0.0  \n",
       "47                    0.0              0.0                            0.0  \n",
       "48                    0.0              0.0                            0.0  \n",
       "49                    0.0              0.0                            0.0  \n",
       "50                    0.0              0.0                            0.0  \n",
       "51                    0.0              0.0                            0.0  \n",
       "52                    0.0              0.0                            0.0  \n",
       "53                    0.0              0.0                            0.0  \n",
       "54                    0.0              0.0                            0.0  \n",
       "55                    0.0              0.0                            0.0  \n",
       "56                    0.0              0.0                            0.0  \n",
       "57                    0.0              0.0                            0.0  \n",
       "58                    0.0              0.0                            0.0  \n",
       "59                    0.0              0.0                            0.0  "
      ]
     },
     "execution_count": 360,
     "metadata": {},
     "output_type": "execute_result"
    }
   ],
   "source": []
  },
  {
   "cell_type": "code",
   "execution_count": 316,
   "metadata": {},
   "outputs": [
    {
     "name": "stdout",
     "output_type": "stream",
     "text": [
      "4\n"
     ]
    },
    {
     "data": {
      "text/plain": [
       "array([7.])"
      ]
     },
     "execution_count": 316,
     "metadata": {},
     "output_type": "execute_result"
    }
   ],
   "source": [
    "rate_sampler(100)"
   ]
  }
 ],
 "metadata": {
  "kernelspec": {
   "display_name": "Python 3",
   "language": "python",
   "name": "python3"
  },
  "language_info": {
   "codemirror_mode": {
    "name": "ipython",
    "version": 3
   },
   "file_extension": ".py",
   "mimetype": "text/x-python",
   "name": "python",
   "nbconvert_exporter": "python",
   "pygments_lexer": "ipython3",
   "version": "3.11.undefined"
  }
 },
 "nbformat": 4,
 "nbformat_minor": 2
}
